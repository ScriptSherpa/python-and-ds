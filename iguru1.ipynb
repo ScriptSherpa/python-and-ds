{
  "nbformat": 4,
  "nbformat_minor": 0,
  "metadata": {
    "colab": {
      "provenance": [],
      "authorship_tag": "ABX9TyNgMV7/M3TwGCm7KJUBeane",
      "include_colab_link": true
    },
    "kernelspec": {
      "name": "python3",
      "display_name": "Python 3"
    },
    "language_info": {
      "name": "python"
    }
  },
  "cells": [
    {
      "cell_type": "markdown",
      "metadata": {
        "id": "view-in-github",
        "colab_type": "text"
      },
      "source": [
        "<a href=\"https://colab.research.google.com/github/ScriptSherpa/python-and-ds/blob/main/iguru1.ipynb\" target=\"_parent\"><img src=\"https://colab.research.google.com/assets/colab-badge.svg\" alt=\"Open In Colab\"/></a>"
      ]
    },
    {
      "cell_type": "code",
      "execution_count": 1,
      "metadata": {
        "colab": {
          "base_uri": "https://localhost:8080/"
        },
        "id": "ZqW2Q6u04eqi",
        "outputId": "5e51a618-ccbb-4563-f4b3-968a7a69d3e4"
      },
      "outputs": [
        {
          "output_type": "stream",
          "name": "stdout",
          "text": [
            "1.26.4\n"
          ]
        }
      ],
      "source": [
        "import numpy as np\n",
        "print(np.__version__)"
      ]
    },
    {
      "cell_type": "code",
      "source": [
        "# array as 1d and 2d array\n",
        "\n",
        "import numpy as np\n",
        "arr =np.array([23,45,67,89,9,87,65,12])\n",
        "print(arr)\n",
        "orint = np.sort(arr)\n",
        "print(orint)\n",
        "print(type(arr))"
      ],
      "metadata": {
        "colab": {
          "base_uri": "https://localhost:8080/"
        },
        "id": "YvEh8_kA65Pz",
        "outputId": "af7f789e-3782-4cd1-ea90-553bcb56ab23"
      },
      "execution_count": 4,
      "outputs": [
        {
          "output_type": "stream",
          "name": "stdout",
          "text": [
            "[23 45 67 89  9 87 65 12]\n",
            "[ 9 12 23 45 65 67 87 89]\n",
            "<class 'numpy.ndarray'>\n"
          ]
        }
      ]
    },
    {
      "cell_type": "code",
      "source": [
        "#  numpy array vs list\n",
        "\n",
        "list1=[10,20,30,45,67]\n",
        "print(list1)\n",
        "print(list1*2)"
      ],
      "metadata": {
        "colab": {
          "base_uri": "https://localhost:8080/"
        },
        "id": "Xdw3soC97Y7D",
        "outputId": "b83dc932-5b73-46a6-d677-c607b374881c"
      },
      "execution_count": 6,
      "outputs": [
        {
          "output_type": "stream",
          "name": "stdout",
          "text": [
            "[10, 20, 30, 45, 67]\n",
            "[10, 20, 30, 45, 67, 10, 20, 30, 45, 67]\n"
          ]
        }
      ]
    }
  ]
}