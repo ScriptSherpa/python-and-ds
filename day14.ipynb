{
  "nbformat": 4,
  "nbformat_minor": 0,
  "metadata": {
    "colab": {
      "provenance": [],
      "authorship_tag": "ABX9TyNQQtpHrd2GlXbzhC6/uVue",
      "include_colab_link": true
    },
    "kernelspec": {
      "name": "python3",
      "display_name": "Python 3"
    },
    "language_info": {
      "name": "python"
    }
  },
  "cells": [
    {
      "cell_type": "markdown",
      "metadata": {
        "id": "view-in-github",
        "colab_type": "text"
      },
      "source": [
        "<a href=\"https://colab.research.google.com/github/ScriptSherpa/python-and-ds/blob/main/day14.ipynb\" target=\"_parent\"><img src=\"https://colab.research.google.com/assets/colab-badge.svg\" alt=\"Open In Colab\"/></a>"
      ]
    },
    {
      "cell_type": "code",
      "execution_count": 2,
      "metadata": {
        "colab": {
          "base_uri": "https://localhost:8080/"
        },
        "id": "xOedZblVlJI2",
        "outputId": "d00015bc-a946-4f07-fc35-227ce7bc943c"
      },
      "outputs": [
        {
          "output_type": "stream",
          "name": "stdout",
          "text": [
            "[2, 3, 45, 63, 12, 34, 56, 78, 90, 76, 1, 23, 43, 12, 15, 67, 89]\n",
            "after sort ; [1, 2, 3, 12, 12, 15, 23, 34, 43, 45, 56, 63, 67, 76, 78, 89, 90]\n"
          ]
        }
      ],
      "source": [
        "# sorting in list\n",
        "list1=[2,3,45,63,12,34,56,78,90,76,1,23,43,12,15,67,89]\n",
        "print(list1)\n",
        "list1.sort() # sort the list in ascending order\n",
        "print('after sort ;',list1)"
      ]
    },
    {
      "cell_type": "code",
      "source": [
        "list1=[2,3,45,63,12,34,56,78,90,76,1,23,43,12,15,67,89]\n",
        "list1.sort(reverse=True) # sort the list in descending order\n",
        "print(list1)"
      ],
      "metadata": {
        "colab": {
          "base_uri": "https://localhost:8080/"
        },
        "id": "SJyUT8wKmWLz",
        "outputId": "45f49df8-bb47-4955-dfba-cf6f92e636d7"
      },
      "execution_count": 3,
      "outputs": [
        {
          "output_type": "stream",
          "name": "stdout",
          "text": [
            "[90, 89, 78, 76, 67, 63, 56, 45, 43, 34, 23, 15, 12, 12, 3, 2, 1]\n"
          ]
        }
      ]
    },
    {
      "cell_type": "code",
      "source": [
        "# Tuple\n",
        "#tuple is imutable in nature\n",
        "#tuple is denoted by ()\n",
        "#tuple can have dulicate values\n",
        "# tuple have ordered collection of data\n",
        "\n",
        "#creat a tuple\n",
        "tuple1=(1,2,3,4,5,6,7,8,9,10)\n",
        "print(tuple1)\n",
        "tuple2=tuple((1,2,3,4,5,6,7,8,9,10))\n",
        "print(tuple2)\n",
        "print(type(tuple1))\n",
        "print(type(tuple2))\n",
        "tuple3=()\n",
        "print(type(tuple3))"
      ],
      "metadata": {
        "colab": {
          "base_uri": "https://localhost:8080/"
        },
        "id": "Udxl3yYImgiF",
        "outputId": "0d9787f6-bbf7-4a6d-fcb3-30b1c25fcb1e"
      },
      "execution_count": 6,
      "outputs": [
        {
          "output_type": "stream",
          "name": "stdout",
          "text": [
            "(1, 2, 3, 4, 5, 6, 7, 8, 9, 10)\n",
            "(1, 2, 3, 4, 5, 6, 7, 8, 9, 10)\n",
            "<class 'tuple'>\n",
            "<class 'tuple'>\n",
            "<class 'tuple'>\n"
          ]
        }
      ]
    },
    {
      "cell_type": "code",
      "source": [
        "# create a tuple having one element\n",
        "t1=(10,)\n",
        "print(t1)\n",
        "print(type(t1))"
      ],
      "metadata": {
        "colab": {
          "base_uri": "https://localhost:8080/"
        },
        "id": "2emJL3xXmsn8",
        "outputId": "ed164452-a5ad-4ca3-b2eb-29f0d04ddd6c"
      },
      "execution_count": 7,
      "outputs": [
        {
          "output_type": "stream",
          "name": "stdout",
          "text": [
            "(10,)\n",
            "<class 'tuple'>\n"
          ]
        }
      ]
    },
    {
      "cell_type": "code",
      "source": [
        "tuple1=(1,2,3,4,5,6,7,6,6,6,6,8,9,10)\n",
        "print(tuple1)\n",
        "print(len(tuple1))\n",
        "print(tuple1.index(6))\n",
        "print(tuple1.count(6))\n",
        "\n"
      ],
      "metadata": {
        "colab": {
          "base_uri": "https://localhost:8080/"
        },
        "id": "pkSWtx3fppTB",
        "outputId": "fa620a56-2dd0-43c7-db78-bc05f799434f"
      },
      "execution_count": 9,
      "outputs": [
        {
          "output_type": "stream",
          "name": "stdout",
          "text": [
            "(1, 2, 3, 4, 5, 6, 7, 6, 6, 6, 6, 8, 9, 10)\n",
            "14\n",
            "5\n",
            "5\n"
          ]
        }
      ]
    },
    {
      "cell_type": "code",
      "source": [
        "# set\n",
        "#tuple is imutable in nature\n",
        "#tuple is denoted by {}\n",
        "#tuple cdoes not allow have dulicate values\n",
        "# tuple have un-ordered collection of data\n",
        "\n",
        "set1={1,2,3,4,5,6,7,8,9,9,90,76,54,32,112,2,2,3,4,5656,67}\n",
        "print(set1)\n",
        "print(type(set1))"
      ],
      "metadata": {
        "colab": {
          "base_uri": "https://localhost:8080/"
        },
        "id": "aHkzdCtNqN9y",
        "outputId": "2e4cf8c6-831a-48ca-f081-a4d023ee0ff4"
      },
      "execution_count": 10,
      "outputs": [
        {
          "output_type": "stream",
          "name": "stdout",
          "text": [
            "{1, 2, 3, 4, 5, 6, 7, 8, 9, 67, 76, 5656, 90, 32, 112, 54}\n",
            "<class 'set'>\n"
          ]
        }
      ]
    }
  ]
}