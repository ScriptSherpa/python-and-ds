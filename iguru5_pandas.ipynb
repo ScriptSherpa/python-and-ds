{
  "nbformat": 4,
  "nbformat_minor": 0,
  "metadata": {
    "colab": {
      "provenance": [],
      "authorship_tag": "ABX9TyNMM+cPshSfY49i4EGya3la",
      "include_colab_link": true
    },
    "kernelspec": {
      "name": "python3",
      "display_name": "Python 3"
    },
    "language_info": {
      "name": "python"
    }
  },
  "cells": [
    {
      "cell_type": "markdown",
      "metadata": {
        "id": "view-in-github",
        "colab_type": "text"
      },
      "source": [
        "<a href=\"https://colab.research.google.com/github/ScriptSherpa/python-and-ds/blob/main/iguru5_pandas.ipynb\" target=\"_parent\"><img src=\"https://colab.research.google.com/assets/colab-badge.svg\" alt=\"Open In Colab\"/></a>"
      ]
    },
    {
      "cell_type": "code",
      "execution_count": null,
      "metadata": {
        "id": "P24jDCqnIP4c"
      },
      "outputs": [],
      "source": [
        "# Pandas\n",
        "\n",
        "# pandas is a fast, powerful, flexible and easy to use open source data analysis and\n",
        "# manipulation tool, built on top of the Python programming language.\n",
        "\n",
        "# Pandas is the backbone of most data science projects.\n",
        "\n",
        "'''\n",
        "Pandas is an open-source Python library providing high-performance,\n",
        "easy-to-use data structures and data analysis tools for the Python\n",
        "programming language. Python with Pandas is used in a wide range of\n",
        "fields including academic and commercial domains including finance,\n",
        "economics, Statistics, analytics, etc.\n",
        "\n",
        "In 2008, developer Wes McKinney started developing pandas when in need\n",
        "of high performance, flexible tool for analysis of data.\n",
        "\n",
        "Prior to Pandas, Python was majorly used for data munging and preparation.\n",
        "It had very little contribution towards data analysis.\n",
        "Pandas solved this problem. Using Pandas, we can accomplish five typical\n",
        "steps in the processing and analysis of data, regardless of the\n",
        "origin of data — load, prepare, manipulate, model, and analyze.\n",
        "\n",
        "Key Features of Pandas\n",
        "\n",
        "a.) Tools for loading data into in-memory data objects from different file formats.\n",
        "\n",
        "b.) Data alignment and integrated handling of missing data.\n",
        "\n",
        "c.) Label-based slicing, indexing and subsetting of large data sets.\n",
        "\n",
        "d.) Columns from a data structure can be deleted or inserted.\n",
        "\n",
        "e.) Group by data for aggregation and transformations.\n",
        "\n",
        "f.) High performance merging and joining of data.\n",
        "\n",
        "g.) Time Series functionality.\n",
        "\n",
        "\n",
        "Numpy vs Pandas\n",
        "\n",
        "a.) The Pandas module mainly works with the tabular data, whereas the NumPy module works with\n",
        "the numerical data.\n",
        "\n",
        "b.) The Pandas provides some sets of powerful tools like DataFrame and Series that mainly used\n",
        "for analyzing the data, whereas in NumPy module offers a powerful object called Array.\n",
        "\n",
        "c.) The Pandas covered the broader application because it is mentioned in 73 company stacks and\n",
        "46 developer stacks, whereas in NumPy, 62 company stacks and 32 developer stacks are being\n",
        "mentioned.\n",
        "\n",
        "d.) Pandas has a better performance for 500K rows or more.  NumPy has a better performance for\n",
        "50K rows or less.\n",
        "\n",
        "'''\n",
        "\n",
        "# Pandas\n",
        "\n",
        "# a.) Series  --> is a 1D labelled data\n",
        "\n",
        "# b.) DataFrame --> represent the data in tabular format\n"
      ]
    },
    {
      "cell_type": "code",
      "source": [
        "import numpy as np\n",
        "import pandas as pd\n",
        "print(pd.__version__)\n",
        "print(np.__version__)"
      ],
      "metadata": {
        "colab": {
          "base_uri": "https://localhost:8080/"
        },
        "id": "J8L26jopOq9Y",
        "outputId": "2df446bf-3a52-48fa-b014-0bba4ce43664"
      },
      "execution_count": 1,
      "outputs": [
        {
          "output_type": "stream",
          "name": "stdout",
          "text": [
            "2.2.2\n",
            "1.26.4\n"
          ]
        }
      ]
    },
    {
      "cell_type": "code",
      "source": [
        "arr = np.array([1,2,3,4,5])\n",
        "print(arr)\n",
        "print(type(arr))"
      ],
      "metadata": {
        "colab": {
          "base_uri": "https://localhost:8080/"
        },
        "id": "Ss-sYV3iQULL",
        "outputId": "90743ddb-427a-4e66-fe8b-e4dbca4e2c07"
      },
      "execution_count": 2,
      "outputs": [
        {
          "output_type": "stream",
          "name": "stdout",
          "text": [
            "[1 2 3 4 5]\n",
            "<class 'numpy.ndarray'>\n"
          ]
        }
      ]
    },
    {
      "cell_type": "code",
      "source": [
        "series = pd.Series(arr)\n",
        "print(type(series))\n",
        "print(series)"
      ],
      "metadata": {
        "colab": {
          "base_uri": "https://localhost:8080/"
        },
        "id": "es-yOHs_QcYN",
        "outputId": "d8aad242-33dc-4bf0-e4f8-c8c67bb1d6b3"
      },
      "execution_count": 3,
      "outputs": [
        {
          "output_type": "stream",
          "name": "stdout",
          "text": [
            "<class 'pandas.core.series.Series'>\n",
            "0    1\n",
            "1    2\n",
            "2    3\n",
            "3    4\n",
            "4    5\n",
            "dtype: int64\n"
          ]
        }
      ]
    },
    {
      "cell_type": "code",
      "source": [
        "emp_info = pd.Series([123,'jhon','it',45000])\n",
        "print(emp_info)"
      ],
      "metadata": {
        "colab": {
          "base_uri": "https://localhost:8080/"
        },
        "id": "B0ltdse2TxBN",
        "outputId": "26e4f20a-0054-4a47-eb3f-e68666ab56e0"
      },
      "execution_count": 4,
      "outputs": [
        {
          "output_type": "stream",
          "name": "stdout",
          "text": [
            "0      123\n",
            "1     jhon\n",
            "2       it\n",
            "3    45000\n",
            "dtype: object\n"
          ]
        }
      ]
    },
    {
      "cell_type": "code",
      "source": [
        "age = pd.Series([34,56,78],index=['age1','age2','age3'])\n",
        "print(age)\n",
        "print(age['age1'])\n",
        "print(age['age2'])\n",
        "print(age['age3'])\n",
        "print(age.iloc[0])"
      ],
      "metadata": {
        "colab": {
          "base_uri": "https://localhost:8080/"
        },
        "id": "vsv5HM8sT_BS",
        "outputId": "27db4b3a-c6c5-4dab-aa9f-3496c3d4e54c"
      },
      "execution_count": 5,
      "outputs": [
        {
          "output_type": "stream",
          "name": "stdout",
          "text": [
            "age1    34\n",
            "age2    56\n",
            "age3    78\n",
            "dtype: int64\n",
            "34\n",
            "56\n",
            "78\n",
            "34\n"
          ]
        }
      ]
    },
    {
      "cell_type": "code",
      "source": [
        "s=pd.Series([10,20,30,40,50,60],index=['val1','val2','val3','val4','val5','val6'])\n",
        "print(s)\n",
        "print(s.iloc[2])\n",
        "print(s['val1'])\n",
        "print(s['val1':'val2'])\n",
        "\n",
        "print(\"\\nusing for loop\")\n",
        "for i in s:\n",
        "  print(i)\n",
        "\n",
        "\n",
        "\n",
        "print(\"\\nPeforming Numercial Computation\")\n",
        "print(s*2)"
      ],
      "metadata": {
        "colab": {
          "base_uri": "https://localhost:8080/"
        },
        "id": "aYH9YVygU79Q",
        "outputId": "bb609af9-5a5a-4504-9838-5059beb7c345"
      },
      "execution_count": 12,
      "outputs": [
        {
          "output_type": "stream",
          "name": "stdout",
          "text": [
            "val1    10\n",
            "val2    20\n",
            "val3    30\n",
            "val4    40\n",
            "val5    50\n",
            "val6    60\n",
            "dtype: int64\n",
            "30\n",
            "10\n",
            "val1    10\n",
            "val2    20\n",
            "dtype: int64\n",
            "\n",
            "using for loop\n",
            "10\n",
            "20\n",
            "30\n",
            "40\n",
            "50\n",
            "60\n",
            "\n",
            "Peforming Numercial Computation\n",
            "val1     20\n",
            "val2     40\n",
            "val3     60\n",
            "val4     80\n",
            "val5    100\n",
            "val6    120\n",
            "dtype: int64\n"
          ]
        }
      ]
    }
  ]
}