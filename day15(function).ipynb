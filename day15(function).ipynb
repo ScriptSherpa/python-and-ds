{
  "nbformat": 4,
  "nbformat_minor": 0,
  "metadata": {
    "colab": {
      "provenance": [],
      "authorship_tag": "ABX9TyNcYfrUoXu3iNCiGK4Xpy8q",
      "include_colab_link": true
    },
    "kernelspec": {
      "name": "python3",
      "display_name": "Python 3"
    },
    "language_info": {
      "name": "python"
    }
  },
  "cells": [
    {
      "cell_type": "markdown",
      "metadata": {
        "id": "view-in-github",
        "colab_type": "text"
      },
      "source": [
        "<a href=\"https://colab.research.google.com/github/ScriptSherpa/python-and-ds/blob/main/day15(function).ipynb\" target=\"_parent\"><img src=\"https://colab.research.google.com/assets/colab-badge.svg\" alt=\"Open In Colab\"/></a>"
      ]
    },
    {
      "cell_type": "code",
      "execution_count": 1,
      "metadata": {
        "id": "1quYLTyVm6sX"
      },
      "outputs": [],
      "source": [
        "# function in python\n",
        "# A function is a block of code which only runs when it is called\n",
        "# You can pass data ,knowns parameters , into a function\n",
        "# A funtion can eturn dat as a result\n",
        "# In python a function is defined using the def keyword\n",
        "\n",
        "# Syntax\n",
        "# def function_name():\n",
        "#      code to be executed"
      ]
    },
    {
      "cell_type": "code",
      "source": [
        "# Function without parameter\n",
        "def greetuser():\n",
        "  print('welcome to my house')\n",
        "\n",
        "greetuser() # calling a function"
      ],
      "metadata": {
        "colab": {
          "base_uri": "https://localhost:8080/"
        },
        "id": "5_T2i9GAndBL",
        "outputId": "b09a245f-08c3-4a2f-ad2a-48b8a8196e3c"
      },
      "execution_count": 2,
      "outputs": [
        {
          "output_type": "stream",
          "name": "stdout",
          "text": [
            "welcome to my house\n"
          ]
        }
      ]
    },
    {
      "cell_type": "code",
      "source": [
        "# Function with parameter\n",
        "\n",
        "def greetuser(name,age ):\n",
        "    print('welecome user:',name)\n",
        "    print('checking age')\n",
        "    if age>18:\n",
        "      print('you are eligible to play the game')\n",
        "    else:\n",
        "      print('age Restriction. you are  not eligible ')\n",
        "\n",
        "greetuser('jhon',21)"
      ],
      "metadata": {
        "colab": {
          "base_uri": "https://localhost:8080/"
        },
        "id": "Y-KyiArtpQMD",
        "outputId": "5570bec6-7b46-4250-ff60-970fbc521c6c"
      },
      "execution_count": 4,
      "outputs": [
        {
          "output_type": "stream",
          "name": "stdout",
          "text": [
            "welecome user: jhon\n",
            "checking age\n",
            "you are eligible to play the game\n"
          ]
        }
      ]
    },
    {
      "cell_type": "code",
      "source": [
        "# function with default parameter\n",
        "\n",
        "def course_name(course='python'):\n",
        "     print(\"welcome to the\",course,'course')\n",
        "course_name()\n",
        "course_name('mern')"
      ],
      "metadata": {
        "colab": {
          "base_uri": "https://localhost:8080/"
        },
        "id": "QjDse49lqAVZ",
        "outputId": "5a39f9a3-da60-40b8-955f-25cd0fd1253d"
      },
      "execution_count": 6,
      "outputs": [
        {
          "output_type": "stream",
          "name": "stdout",
          "text": [
            "welcome to the python course\n",
            "welcome to the mern course\n"
          ]
        }
      ]
    },
    {
      "cell_type": "code",
      "source": [
        "# function with return statement\n",
        "\n",
        "def checkEvenOdd(num):\n",
        "  return num%2==0\n",
        "\n",
        "i =int(input('enter a number'))\n",
        "if checkEvenOdd(i):\n",
        "  print(i,'is even')\n",
        "else:\n",
        "  print(i,'is odd')"
      ],
      "metadata": {
        "colab": {
          "base_uri": "https://localhost:8080/"
        },
        "id": "nb8oDc9uqq4B",
        "outputId": "df010e06-119d-43e2-d72c-53a970e455b4"
      },
      "execution_count": 8,
      "outputs": [
        {
          "output_type": "stream",
          "name": "stdout",
          "text": [
            "enter a number68\n",
            "68 is even\n"
          ]
        }
      ]
    },
    {
      "cell_type": "code",
      "source": [
        "# print the given string in a reverse order\n",
        "\n",
        "def reversal(name:str):\n",
        "  return print(name[::-1])\n",
        "reversal(input('enter your string :'))"
      ],
      "metadata": {
        "colab": {
          "base_uri": "https://localhost:8080/"
        },
        "id": "P0HQAbh0rIMS",
        "outputId": "ebd6d317-0340-4acc-8594-b420adcb44a6"
      },
      "execution_count": 9,
      "outputs": [
        {
          "output_type": "stream",
          "name": "stdout",
          "text": [
            "enter your string : my name is nikhil\n",
            "lihkin si eman ym \n"
          ]
        }
      ]
    },
    {
      "cell_type": "code",
      "source": [
        "help(reversal)"
      ],
      "metadata": {
        "colab": {
          "base_uri": "https://localhost:8080/"
        },
        "id": "GrvhebborjPO",
        "outputId": "3a57bf4d-2198-4a07-e751-47143aa78223"
      },
      "execution_count": 10,
      "outputs": [
        {
          "output_type": "stream",
          "name": "stdout",
          "text": [
            "Help on function reversal in module __main__:\n",
            "\n",
            "reversal(name: str)\n",
            "\n"
          ]
        }
      ]
    },
    {
      "cell_type": "code",
      "source": [
        "# Special symbols used for assing arguments in function\n",
        "#*args ---> we can use *args to handel any number of argument\n",
        "\n",
        "\n",
        "def python_func(*args):\n",
        "  for i in args:\n",
        "    print(i,end='')\n",
        "  print()\n",
        "\n",
        "python_func('hello','welcome','to','python','course')\n",
        "python_func(10,23,34,56,)\n",
        "python_func(12)"
      ],
      "metadata": {
        "colab": {
          "base_uri": "https://localhost:8080/"
        },
        "id": "OpRNb-FZsVLb",
        "outputId": "3f36de97-c41e-4530-fecc-dee3a6a4d525"
      },
      "execution_count": 12,
      "outputs": [
        {
          "output_type": "stream",
          "name": "stdout",
          "text": [
            "hellowelcometopythoncourse\n",
            "10233456\n",
            "12\n"
          ]
        }
      ]
    },
    {
      "cell_type": "code",
      "source": [
        "#using args print all the even numbers\n",
        "\n",
        "#printEvens (10,13.11.12.16.17.21.24.26.55.54 70.99.31)\n",
        "\n",
        "#printEvens (10.13.11.12 16.17.21.24)\n",
        "\n",
        "def printEvens(*args):\n",
        "  even_list = []\n",
        "  for i in args:\n",
        "    if isinstance(i,int) and 1% 2 == 0:\n",
        "      even_list.append(i)\n",
        "    print(even_list)\n",
        "\n",
        "printEvens(10,12,1,4,16,1,8,32,46,68,891)\n",
        "\n",
        "printEvens(10,23,45,6,789,90,9,876,54)"
      ],
      "metadata": {
        "colab": {
          "base_uri": "https://localhost:8080/"
        },
        "id": "zkjzCvdBtXD0",
        "outputId": "e8637507-d6ab-4288-b324-1e9837377172"
      },
      "execution_count": 15,
      "outputs": [
        {
          "output_type": "stream",
          "name": "stdout",
          "text": [
            "[]\n",
            "[]\n",
            "[]\n",
            "[]\n",
            "[]\n",
            "[]\n",
            "[]\n",
            "[]\n",
            "[]\n",
            "[]\n",
            "[]\n",
            "[]\n",
            "[]\n",
            "[]\n",
            "[]\n",
            "[]\n",
            "[]\n",
            "[]\n",
            "[]\n",
            "[]\n"
          ]
        }
      ]
    },
    {
      "cell_type": "code",
      "source": [
        "i"
      ],
      "metadata": {
        "id": "DFgyk0cIttMB"
      },
      "execution_count": null,
      "outputs": []
    },
    {
      "cell_type": "code",
      "source": [
        "# doc string\n",
        "\n",
        "def textToSpeech(user_input:text):\n",
        "  \"\"\"this function converts text to speech\"\"\"\n",
        "  print(text)\n",
        "pass\n",
        "\n",
        "help(textToSpeech)"
      ],
      "metadata": {
        "colab": {
          "base_uri": "https://localhost:8080/",
          "height": 211
        },
        "id": "sSwMm1ncytIC",
        "outputId": "e14d3508-259a-4e5d-d6f3-58af2241a3c1"
      },
      "execution_count": 20,
      "outputs": [
        {
          "output_type": "error",
          "ename": "NameError",
          "evalue": "name 'text' is not defined",
          "traceback": [
            "\u001b[0;31m---------------------------------------------------------------------------\u001b[0m",
            "\u001b[0;31mNameError\u001b[0m                                 Traceback (most recent call last)",
            "\u001b[0;32m<ipython-input-20-340bd20aa7cd>\u001b[0m in \u001b[0;36m<cell line: 3>\u001b[0;34m()\u001b[0m\n\u001b[1;32m      1\u001b[0m \u001b[0;31m# doc string\u001b[0m\u001b[0;34m\u001b[0m\u001b[0;34m\u001b[0m\u001b[0m\n\u001b[1;32m      2\u001b[0m \u001b[0;34m\u001b[0m\u001b[0m\n\u001b[0;32m----> 3\u001b[0;31m \u001b[0;32mdef\u001b[0m \u001b[0mtextToSpeech\u001b[0m\u001b[0;34m(\u001b[0m\u001b[0muser_input\u001b[0m\u001b[0;34m:\u001b[0m\u001b[0mtext\u001b[0m\u001b[0;34m)\u001b[0m\u001b[0;34m:\u001b[0m\u001b[0;34m\u001b[0m\u001b[0;34m\u001b[0m\u001b[0m\n\u001b[0m\u001b[1;32m      4\u001b[0m   \u001b[0;34m\"\"\"this function converts text to speech\"\"\"\u001b[0m\u001b[0;34m\u001b[0m\u001b[0;34m\u001b[0m\u001b[0m\n\u001b[1;32m      5\u001b[0m   \u001b[0mprint\u001b[0m\u001b[0;34m(\u001b[0m\u001b[0mtext\u001b[0m\u001b[0;34m)\u001b[0m\u001b[0;34m\u001b[0m\u001b[0;34m\u001b[0m\u001b[0m\n",
            "\u001b[0;31mNameError\u001b[0m: name 'text' is not defined"
          ]
        }
      ]
    },
    {
      "cell_type": "code",
      "source": [
        "# access the docstring\n",
        "print(textToSpeech.__doc__)"
      ],
      "metadata": {
        "colab": {
          "base_uri": "https://localhost:8080/",
          "height": 158
        },
        "id": "IZv7i9NbzHw2",
        "outputId": "c7a0f853-21d3-4004-e511-d88d63a1d892"
      },
      "execution_count": 21,
      "outputs": [
        {
          "output_type": "error",
          "ename": "NameError",
          "evalue": "name 'textToSpeech' is not defined",
          "traceback": [
            "\u001b[0;31m---------------------------------------------------------------------------\u001b[0m",
            "\u001b[0;31mNameError\u001b[0m                                 Traceback (most recent call last)",
            "\u001b[0;32m<ipython-input-21-cdf5733318f9>\u001b[0m in \u001b[0;36m<cell line: 2>\u001b[0;34m()\u001b[0m\n\u001b[1;32m      1\u001b[0m \u001b[0;31m# access the docstring\u001b[0m\u001b[0;34m\u001b[0m\u001b[0;34m\u001b[0m\u001b[0m\n\u001b[0;32m----> 2\u001b[0;31m \u001b[0mprint\u001b[0m\u001b[0;34m(\u001b[0m\u001b[0mtextToSpeech\u001b[0m\u001b[0;34m.\u001b[0m\u001b[0m__doc__\u001b[0m\u001b[0;34m)\u001b[0m\u001b[0;34m\u001b[0m\u001b[0;34m\u001b[0m\u001b[0m\n\u001b[0m",
            "\u001b[0;31mNameError\u001b[0m: name 'textToSpeech' is not defined"
          ]
        }
      ]
    },
    {
      "cell_type": "code",
      "source": [
        "!pip install gTTs"
      ],
      "metadata": {
        "colab": {
          "base_uri": "https://localhost:8080/"
        },
        "id": "7V2ajh6jzbx5",
        "outputId": "1e961fb3-a6dd-4672-a226-1c10af7a5635"
      },
      "execution_count": 22,
      "outputs": [
        {
          "output_type": "stream",
          "name": "stdout",
          "text": [
            "Collecting gTTs\n",
            "  Downloading gTTS-2.5.4-py3-none-any.whl.metadata (4.1 kB)\n",
            "Requirement already satisfied: requests<3,>=2.27 in /usr/local/lib/python3.10/dist-packages (from gTTs) (2.32.3)\n",
            "Requirement already satisfied: click<8.2,>=7.1 in /usr/local/lib/python3.10/dist-packages (from gTTs) (8.1.7)\n",
            "Requirement already satisfied: charset-normalizer<4,>=2 in /usr/local/lib/python3.10/dist-packages (from requests<3,>=2.27->gTTs) (3.4.0)\n",
            "Requirement already satisfied: idna<4,>=2.5 in /usr/local/lib/python3.10/dist-packages (from requests<3,>=2.27->gTTs) (3.10)\n",
            "Requirement already satisfied: urllib3<3,>=1.21.1 in /usr/local/lib/python3.10/dist-packages (from requests<3,>=2.27->gTTs) (2.2.3)\n",
            "Requirement already satisfied: certifi>=2017.4.17 in /usr/local/lib/python3.10/dist-packages (from requests<3,>=2.27->gTTs) (2024.8.30)\n",
            "Downloading gTTS-2.5.4-py3-none-any.whl (29 kB)\n",
            "Installing collected packages: gTTs\n",
            "Successfully installed gTTs-2.5.4\n"
          ]
        }
      ]
    },
    {
      "cell_type": "code",
      "source": [
        "def convertTextToSpeech(user_input:str):\n",
        "  \"\"\"this function converts text to speech\"\"\"\n",
        "  from gtts import gTTS\n",
        "  tts = gTTS(user_input)\n",
        "  tts.save('output.mp3')\n",
        "\n",
        "userInput =input('enter the text to convert to speech')\n",
        "convertTextToSpeech(userInput)"
      ],
      "metadata": {
        "colab": {
          "base_uri": "https://localhost:8080/"
        },
        "id": "QB2XET7kzn_r",
        "outputId": "b42afcc3-0ce1-4aba-fc12-9694d658fd04"
      },
      "execution_count": 24,
      "outputs": [
        {
          "name": "stdout",
          "output_type": "stream",
          "text": [
            "enter the text to convert to speechmy name is nikhil and i am learining python\n"
          ]
        }
      ]
    },
    {
      "cell_type": "code",
      "source": [
        "# lambda function canhave any nymber of arguments but can have only one exp\n",
        "\n",
        "x = lambda num : num**2\n",
        "print(x(5))\n"
      ],
      "metadata": {
        "colab": {
          "base_uri": "https://localhost:8080/"
        },
        "id": "vU5rfr_WCdak",
        "outputId": "9d6a6e71-1d47-48c1-c533-f18fc5c785e9"
      },
      "execution_count": 25,
      "outputs": [
        {
          "output_type": "stream",
          "name": "stdout",
          "text": [
            "25\n"
          ]
        }
      ]
    },
    {
      "cell_type": "markdown",
      "source": [],
      "metadata": {
        "id": "NxXv46AJFC8h"
      }
    },
    {
      "cell_type": "code",
      "source": [
        "# filter() function in python\n",
        "# in python, the filter() functin is used to return the filtered value.\n",
        "# we use this function the filter values based on some conditions\n",
        "\n",
        "# syntax of filter() function\n",
        "\n",
        "# filter (function,sequence)\n",
        "\n",
        "num_list = [10,20,30,40,45,67,89,43,23,50,60,70,80,90]\n",
        "even_nums = list(filter(lambda x:x%2==0,num_list))\n",
        "print(even_nums)\n",
        "\n"
      ],
      "metadata": {
        "colab": {
          "base_uri": "https://localhost:8080/"
        },
        "id": "ORQezwGPDjia",
        "outputId": "c1f7b887-c515-40e4-954f-641c6adbf79f"
      },
      "execution_count": 29,
      "outputs": [
        {
          "output_type": "stream",
          "name": "stdout",
          "text": [
            "[10, 20, 30, 40, 50, 60, 70, 80, 90]\n"
          ]
        }
      ]
    }
  ]
}