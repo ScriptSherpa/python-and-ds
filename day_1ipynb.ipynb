{
  "nbformat": 4,
  "nbformat_minor": 0,
  "metadata": {
    "colab": {
      "provenance": [],
      "toc_visible": true,
      "authorship_tag": "ABX9TyMUdyDGfMr6tHiYZE6uXWpA",
      "include_colab_link": true
    },
    "kernelspec": {
      "name": "python3",
      "display_name": "Python 3"
    },
    "language_info": {
      "name": "python"
    }
  },
  "cells": [
    {
      "cell_type": "markdown",
      "metadata": {
        "id": "view-in-github",
        "colab_type": "text"
      },
      "source": [
        "<a href=\"https://colab.research.google.com/github/ScriptSherpa/python-and-ds/blob/main/day_1ipynb.ipynb\" target=\"_parent\"><img src=\"https://colab.research.google.com/assets/colab-badge.svg\" alt=\"Open In Colab\"/></a>"
      ]
    },
    {
      "cell_type": "code",
      "execution_count": 2,
      "metadata": {
        "colab": {
          "base_uri": "https://localhost:8080/"
        },
        "id": "8fdwDQTaAKig",
        "outputId": "f13f609e-cb84-4b31-fd3c-87277b50d62c"
      },
      "outputs": [
        {
          "output_type": "stream",
          "name": "stdout",
          "text": [
            "hello world  my nikhil\n"
          ]
        }
      ],
      "source": [
        "#first python hello world program\n",
        "# print()function\n",
        "#used to print on a stream\n",
        "\n",
        "print(\"hello world  my nikhil\")"
      ]
    },
    {
      "cell_type": "code",
      "source": [
        "#default paramter of print function\n",
        "#functionName?: it will give docstring of that function\n",
        "#help(functionName)\n",
        "\n",
        "print(\"second line\",end = '\\n')#\\n-->new line\n",
        "print(\"first line\",\"fourth value\",end='\\t',sep='-->') #\\t-->tab space\n",
        "print(\"third line\",end = '\\n')#\\n-->new line"
      ],
      "metadata": {
        "colab": {
          "base_uri": "https://localhost:8080/"
        },
        "id": "sUoP0UUYDIAX",
        "outputId": "2188ac48-062a-4a43-b8ae-7ae366b54ebc"
      },
      "execution_count": 6,
      "outputs": [
        {
          "output_type": "stream",
          "name": "stdout",
          "text": [
            "second line\n",
            "first line-->fourth value\tthird line\n"
          ]
        }
      ]
    },
    {
      "cell_type": "code",
      "source": [],
      "metadata": {
        "id": "oS5FVd3MFNj5"
      },
      "execution_count": null,
      "outputs": []
    }
  ]
}