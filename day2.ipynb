{
  "nbformat": 4,
  "nbformat_minor": 0,
  "metadata": {
    "colab": {
      "provenance": [],
      "authorship_tag": "ABX9TyNN55iViWy9toG1/ksPZUg9",
      "include_colab_link": true
    },
    "kernelspec": {
      "name": "python3",
      "display_name": "Python 3"
    },
    "language_info": {
      "name": "python"
    }
  },
  "cells": [
    {
      "cell_type": "markdown",
      "metadata": {
        "id": "view-in-github",
        "colab_type": "text"
      },
      "source": [
        "<a href=\"https://colab.research.google.com/github/ScriptSherpa/python-and-ds/blob/main/day2.ipynb\" target=\"_parent\"><img src=\"https://colab.research.google.com/assets/colab-badge.svg\" alt=\"Open In Colab\"/></a>"
      ]
    },
    {
      "cell_type": "code",
      "execution_count": 2,
      "metadata": {
        "colab": {
          "base_uri": "https://localhost:8080/"
        },
        "id": "4pxKV9b8_unG",
        "outputId": "a90d6861-7b00-4739-ac6e-d3603fd96a31"
      },
      "outputs": [
        {
          "output_type": "stream",
          "name": "stdout",
          "text": [
            "6\n",
            "-16\n",
            "80\n",
            "9.0\n"
          ]
        }
      ],
      "source": [
        "#python numbers\n",
        "#python as a calculator\n",
        "print(3+3)\n",
        "print(4-20)\n",
        "print(10*8)\n",
        "print(45/5)#in python value divison is alawyas in bool"
      ]
    },
    {
      "cell_type": "code",
      "source": [
        "#floor division //always return an integer value\n",
        "print(72//2)\n",
        "\n",
        "#exponential operator -->**\n",
        "print(3**10)#raise 3 to the power 10\n",
        "\n",
        "#modulo operator %--> give the remaider\n",
        "print(45%4)\n",
        "\n",
        "#operator precedence\n",
        "\n",
        "'''\n",
        "()parenthesis\n",
        "**exponentiation\n",
        "*multiplication\n",
        "/division\n",
        "+addition\n",
        "-subtraction\n",
        "'''\n",
        "print(100-8*7)\n",
        "\n",
        "#associativity\n",
        "print(4*7%3)# left one first and right one later"
      ],
      "metadata": {
        "colab": {
          "base_uri": "https://localhost:8080/"
        },
        "id": "h1tkOPOzA2Am",
        "outputId": "7e9a7025-331a-4a44-ed13-a9e4542b2e4d"
      },
      "execution_count": 10,
      "outputs": [
        {
          "output_type": "stream",
          "name": "stdout",
          "text": [
            "36\n",
            "59049\n",
            "1\n",
            "44\n",
            "1\n"
          ]
        }
      ]
    },
    {
      "cell_type": "code",
      "source": [
        "#variables\n",
        "first_values= 99\n",
        "print(first_values)\n",
        "\n",
        "#data types in python\n",
        "#python uses dynamiv typingthis meanswe can reassign variable to diffrent\n",
        "#data types\n",
        "a=10\n",
        "print(a)\n",
        "\n",
        "a ='str'\n",
        "print(a)"
      ],
      "metadata": {
        "colab": {
          "base_uri": "https://localhost:8080/"
        },
        "id": "7MdF_G1uJa8V",
        "outputId": "e30c80c4-ca86-4223-c859-9a150c1a5e79"
      },
      "execution_count": 13,
      "outputs": [
        {
          "output_type": "stream",
          "name": "stdout",
          "text": [
            "99\n",
            "10\n",
            "str\n"
          ]
        }
      ]
    },
    {
      "cell_type": "code",
      "source": [
        "# data types\n",
        "#type()--> used to chek data type of variable\n",
        "\n",
        "#int\n",
        "intvalue=234\n",
        "print(type(intvalue),intvalue)\n",
        "#float data type\n",
        "floatvalue=45.678\n",
        "print(type(floatvalue),floatvalue)\n",
        "#string data type\n",
        "strvalue=\"my name is king khan\"\n",
        "print(type(strvalue),strvalue)\n",
        "#boolean data type\n",
        "booltype = True\n",
        "print(type(booltype),booltype)"
      ],
      "metadata": {
        "colab": {
          "base_uri": "https://localhost:8080/"
        },
        "id": "7cA5L1VkQGOO",
        "outputId": "3f737a73-d583-4775-b32d-c38f757aea94"
      },
      "execution_count": 22,
      "outputs": [
        {
          "output_type": "stream",
          "name": "stdout",
          "text": [
            "<class 'int'> 234\n",
            "<class 'float'> 45.678\n",
            "<class 'str'> my name is king khan\n",
            "<class 'bool'> True\n"
          ]
        }
      ]
    },
    {
      "cell_type": "code",
      "source": [
        "# STRINGS IN PYTHON\n",
        "# sequence of a characters\n",
        "\n",
        "# STRINGS IN PYTHON\n",
        "# sequence of a characters\n",
        "\n",
        "str1=\"string\"\n",
        "str2='string'\n",
        "print(type(str1),type(str2))\n",
        "\n",
        "course=\"full stack developer \"\n",
        "#indexing --> indexing allows us to grab a single character from a string\n",
        "#indexing uses [] notation\n",
        "print(course[6])\n",
        "print(course[9])\n",
        "print(course[12])"
      ],
      "metadata": {
        "colab": {
          "base_uri": "https://localhost:8080/"
        },
        "id": "g-8Gc_j0Ru7Q",
        "outputId": "c89c29ae-2f59-4642-f03b-a587ae767bb5"
      },
      "execution_count": 28,
      "outputs": [
        {
          "output_type": "stream",
          "name": "stdout",
          "text": [
            "<class 'str'> <class 'str'>\n",
            "t\n",
            "k\n",
            "e\n"
          ]
        }
      ]
    },
    {
      "cell_type": "code",
      "source": [
        "#slicing in string\n",
        "course=\"PythonProgramming\"\n",
        "# P y t h o n P r o g r  a  m  m  i  n  g\n",
        "# 0 1 2 3 4 5 6 7 8 9 10 11 12 13 14 15 16\n",
        "#                                 -3 -2 -1\n",
        "# slicing allows us to grab portion or sub portion of the string\n",
        "#synrax : varname [startindex:stopindex]\n",
        "#startindex : numeric index from where slicing starts [INCLUSIVE]\n",
        "#stopindex : numeric index from where slicing ends [EXCLUSIVE]\n",
        "\n",
        "print(course[3:15])\n",
        "print(course[6:13])\n",
        "print(course[:6])\n",
        "print(course[6:])\n",
        "\n",
        "#negative slicing\n",
        "print(course[-1])\n",
        "#stepcount\n",
        "print(course[::2])"
      ],
      "metadata": {
        "colab": {
          "base_uri": "https://localhost:8080/"
        },
        "id": "J3m-sNQUVItm",
        "outputId": "5278171a-a789-4e1a-d801-1bf65bf3d514"
      },
      "execution_count": 37,
      "outputs": [
        {
          "output_type": "stream",
          "name": "stdout",
          "text": [
            "honProgrammi\n",
            "Program\n",
            "Python\n",
            "Programming\n",
            "g\n",
            "PtoPormig\n"
          ]
        }
      ]
    }
  ]
}