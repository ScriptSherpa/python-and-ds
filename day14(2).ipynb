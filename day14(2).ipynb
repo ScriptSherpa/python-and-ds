{
  "nbformat": 4,
  "nbformat_minor": 0,
  "metadata": {
    "colab": {
      "provenance": [],
      "authorship_tag": "ABX9TyOBVhEuaj4xUqovikJyuo3i",
      "include_colab_link": true
    },
    "kernelspec": {
      "name": "python3",
      "display_name": "Python 3"
    },
    "language_info": {
      "name": "python"
    }
  },
  "cells": [
    {
      "cell_type": "markdown",
      "metadata": {
        "id": "view-in-github",
        "colab_type": "text"
      },
      "source": [
        "<a href=\"https://colab.research.google.com/github/ScriptSherpa/python-and-ds/blob/main/day14(2).ipynb\" target=\"_parent\"><img src=\"https://colab.research.google.com/assets/colab-badge.svg\" alt=\"Open In Colab\"/></a>"
      ]
    },
    {
      "cell_type": "code",
      "execution_count": null,
      "metadata": {
        "colab": {
          "base_uri": "https://localhost:8080/"
        },
        "id": "xOedZblVlJI2",
        "outputId": "d00015bc-a946-4f07-fc35-227ce7bc943c"
      },
      "outputs": [
        {
          "output_type": "stream",
          "name": "stdout",
          "text": [
            "[2, 3, 45, 63, 12, 34, 56, 78, 90, 76, 1, 23, 43, 12, 15, 67, 89]\n",
            "after sort ; [1, 2, 3, 12, 12, 15, 23, 34, 43, 45, 56, 63, 67, 76, 78, 89, 90]\n"
          ]
        }
      ],
      "source": [
        "# sorting in list\n",
        "list1=[2,3,45,63,12,34,56,78,90,76,1,23,43,12,15,67,89]\n",
        "print(list1)\n",
        "list1.sort() # sort the list in ascending order\n",
        "print('after sort ;',list1)"
      ]
    },
    {
      "cell_type": "code",
      "source": [
        "list1=[2,3,45,63,12,34,56,78,90,76,1,23,43,12,15,67,89]\n",
        "list1.sort(reverse=True) # sort the list in descending order\n",
        "print(list1)"
      ],
      "metadata": {
        "colab": {
          "base_uri": "https://localhost:8080/"
        },
        "id": "SJyUT8wKmWLz",
        "outputId": "45f49df8-bb47-4955-dfba-cf6f92e636d7"
      },
      "execution_count": null,
      "outputs": [
        {
          "output_type": "stream",
          "name": "stdout",
          "text": [
            "[90, 89, 78, 76, 67, 63, 56, 45, 43, 34, 23, 15, 12, 12, 3, 2, 1]\n"
          ]
        }
      ]
    },
    {
      "cell_type": "code",
      "source": [
        "# Tuple\n",
        "#tuple is imutable in nature\n",
        "#tuple is denoted by ()\n",
        "#tuple can have dulicate values\n",
        "# tuple have ordered collection of data\n",
        "\n",
        "#creat a tuple\n",
        "tuple1=(1,2,3,4,5,6,7,8,9,10)\n",
        "print(tuple1)\n",
        "tuple2=tuple((1,2,3,4,5,6,7,8,9,10))\n",
        "print(tuple2)\n",
        "print(type(tuple1))\n",
        "print(type(tuple2))\n",
        "tuple3=()\n",
        "print(type(tuple3))"
      ],
      "metadata": {
        "colab": {
          "base_uri": "https://localhost:8080/"
        },
        "id": "Udxl3yYImgiF",
        "outputId": "0d9787f6-bbf7-4a6d-fcb3-30b1c25fcb1e"
      },
      "execution_count": null,
      "outputs": [
        {
          "output_type": "stream",
          "name": "stdout",
          "text": [
            "(1, 2, 3, 4, 5, 6, 7, 8, 9, 10)\n",
            "(1, 2, 3, 4, 5, 6, 7, 8, 9, 10)\n",
            "<class 'tuple'>\n",
            "<class 'tuple'>\n",
            "<class 'tuple'>\n"
          ]
        }
      ]
    },
    {
      "cell_type": "code",
      "source": [
        "# create a tuple having one element\n",
        "t1=(10,)\n",
        "print(t1)\n",
        "print(type(t1))"
      ],
      "metadata": {
        "colab": {
          "base_uri": "https://localhost:8080/"
        },
        "id": "2emJL3xXmsn8",
        "outputId": "ed164452-a5ad-4ca3-b2eb-29f0d04ddd6c"
      },
      "execution_count": null,
      "outputs": [
        {
          "output_type": "stream",
          "name": "stdout",
          "text": [
            "(10,)\n",
            "<class 'tuple'>\n"
          ]
        }
      ]
    },
    {
      "cell_type": "code",
      "source": [
        "tuple1=(1,2,3,4,5,6,7,6,6,6,6,8,9,10)\n",
        "print(tuple1)\n",
        "print(len(tuple1))\n",
        "print(tuple1.index(6))\n",
        "print(tuple1.count(6))\n",
        "\n"
      ],
      "metadata": {
        "colab": {
          "base_uri": "https://localhost:8080/"
        },
        "id": "pkSWtx3fppTB",
        "outputId": "fa620a56-2dd0-43c7-db78-bc05f799434f"
      },
      "execution_count": null,
      "outputs": [
        {
          "output_type": "stream",
          "name": "stdout",
          "text": [
            "(1, 2, 3, 4, 5, 6, 7, 6, 6, 6, 6, 8, 9, 10)\n",
            "14\n",
            "5\n",
            "5\n"
          ]
        }
      ]
    },
    {
      "cell_type": "code",
      "source": [
        "# set\n",
        "#tuple is imutable in nature\n",
        "#tuple is denoted by {}\n",
        "#tuple cdoes not allow have dulicate values\n",
        "# tuple have un-ordered collection of data\n",
        "\n",
        "set1={1,2,3,4,5,6,7,8,9,9,90,76,54,32,112,2,2,3,4,5656,67}\n",
        "print(set1)\n",
        "print(type(set1))"
      ],
      "metadata": {
        "colab": {
          "base_uri": "https://localhost:8080/"
        },
        "id": "aHkzdCtNqN9y",
        "outputId": "2e4cf8c6-831a-48ca-f081-a4d023ee0ff4"
      },
      "execution_count": null,
      "outputs": [
        {
          "output_type": "stream",
          "name": "stdout",
          "text": [
            "{1, 2, 3, 4, 5, 6, 7, 8, 9, 67, 76, 5656, 90, 32, 112, 54}\n",
            "<class 'set'>\n"
          ]
        }
      ]
    },
    {
      "cell_type": "code",
      "source": [
        "set2 =set({10,3,45,67})\n",
        "print(type(set2))\n",
        "set3={}\n",
        "print(type(set3))"
      ],
      "metadata": {
        "colab": {
          "base_uri": "https://localhost:8080/"
        },
        "id": "GgSlN6ske8sM",
        "outputId": "4cb5eae2-51d9-4286-aa69-b409054e7b7c"
      },
      "execution_count": 1,
      "outputs": [
        {
          "output_type": "stream",
          "name": "stdout",
          "text": [
            "<class 'set'>\n",
            "<class 'dict'>\n"
          ]
        }
      ]
    },
    {
      "cell_type": "code",
      "source": [
        "set1 = set({'jan','feb','march','april','may'})\n",
        "print('original setm :',set1)\n",
        "\n",
        "#add(-->) usd to add single item\n",
        "set1.add('june')\n",
        "print('after add :',set1)\n",
        "\n",
        "#update ---> used to add more than one item\n",
        "set1.update(['july','august','september'])\n",
        "print('after update :',set1)\n",
        "# discard()\n",
        "set1.discard('march')\n",
        "print('after discard :',set1)\n",
        "\n",
        "#remove ---> used to remove single item\n",
        "# give error if not existing elment is removed\n",
        "set1.remove('april')\n",
        "print('after remove :',set1)\n"
      ],
      "metadata": {
        "colab": {
          "base_uri": "https://localhost:8080/"
        },
        "id": "LPsyHs3yfPm6",
        "outputId": "5f2c5730-d551-4aef-bd7b-d4687e278e2e"
      },
      "execution_count": 3,
      "outputs": [
        {
          "output_type": "stream",
          "name": "stdout",
          "text": [
            "original setm : {'feb', 'jan', 'march', 'april', 'may'}\n",
            "after add : {'feb', 'jan', 'june', 'march', 'april', 'may'}\n",
            "after update : {'september', 'feb', 'july', 'august', 'june', 'march', 'april', 'jan', 'may'}\n",
            "after discard : {'september', 'feb', 'july', 'august', 'june', 'april', 'jan', 'may'}\n",
            "after remove : {'september', 'feb', 'july', 'august', 'june', 'jan', 'may'}\n"
          ]
        }
      ]
    },
    {
      "cell_type": "code",
      "source": [
        "!pip install ordered-set"
      ],
      "metadata": {
        "colab": {
          "base_uri": "https://localhost:8080/"
        },
        "id": "n1UKdnqdgJp1",
        "outputId": "2dec19a8-6cd6-433b-8353-b79c46d32605"
      },
      "execution_count": 4,
      "outputs": [
        {
          "output_type": "stream",
          "name": "stdout",
          "text": [
            "Collecting ordered-set\n",
            "  Downloading ordered_set-4.1.0-py3-none-any.whl.metadata (5.3 kB)\n",
            "Downloading ordered_set-4.1.0-py3-none-any.whl (7.6 kB)\n",
            "Installing collected packages: ordered-set\n",
            "Successfully installed ordered-set-4.1.0\n"
          ]
        }
      ]
    },
    {
      "cell_type": "code",
      "source": [
        "from ordered_set import OrderedSet\n",
        "str1='abracadabra'\n",
        "print(set(str1))\n",
        "print(OrderedSet(str1))"
      ],
      "metadata": {
        "colab": {
          "base_uri": "https://localhost:8080/"
        },
        "id": "swLHSgCQgsHJ",
        "outputId": "11a6131c-52ba-4c00-8ae6-08e0849f4c64"
      },
      "execution_count": 5,
      "outputs": [
        {
          "output_type": "stream",
          "name": "stdout",
          "text": [
            "{'d', 'b', 'r', 'c', 'a'}\n",
            "OrderedSet(['a', 'b', 'r', 'c', 'd'])\n"
          ]
        }
      ]
    },
    {
      "cell_type": "code",
      "source": [
        "# Dictionary\n",
        "# dictionary is used to store the info in key-value pair  format\n",
        "# dictionary is denotrd by {}\n",
        "# gives key error if index  no is used are used\n",
        "# dictionary is mutable in nature\n",
        "\n",
        "gamer={'name':'nikhil','email':'h@gmail.com','age':45,'rank':3}\n",
        "print(type(gamer))\n",
        "print(gamer)\n",
        "print(gamer['name'])\n",
        "print(gamer['email'])\n",
        "print(gamer['age'])\n",
        "print(gamer['rank'])\n",
        "\n",
        "print(gamer.get('name'))"
      ],
      "metadata": {
        "colab": {
          "base_uri": "https://localhost:8080/"
        },
        "id": "PEuHhe3yhJZa",
        "outputId": "bd210c85-4834-455e-ef8b-239405ce67b1"
      },
      "execution_count": 7,
      "outputs": [
        {
          "output_type": "stream",
          "name": "stdout",
          "text": [
            "<class 'dict'>\n",
            "{'name': 'nikhil', 'email': 'h@gmail.com', 'age': 45, 'rank': 3}\n",
            "nikhil\n",
            "h@gmail.com\n",
            "45\n",
            "3\n",
            "nikhil\n"
          ]
        }
      ]
    },
    {
      "cell_type": "code",
      "source": [],
      "metadata": {
        "id": "zCedKR_fljbJ"
      },
      "execution_count": null,
      "outputs": []
    },
    {
      "cell_type": "code",
      "source": [
        "# add a new key:value pair\n",
        "gamer['country']='india'\n",
        "print(gamer)\n",
        "\n",
        "# update existing key:value pair\n",
        "gamer['rank']=6\n",
        "\n",
        "#pop() to delete key;value pair\n",
        "gamer.pop('email')\n",
        "print(gamer)\n",
        "\n",
        "#popitem(---> last added key:value pair is removed )\n",
        "gamer.popitem()\n",
        "# key can be integer also 1:1,2:34,45:3"
      ],
      "metadata": {
        "colab": {
          "base_uri": "https://localhost:8080/"
        },
        "id": "8pMG98ltkSjl",
        "outputId": "11a69481-f00a-44ce-edc9-c0fbad860b91"
      },
      "execution_count": 11,
      "outputs": [
        {
          "output_type": "stream",
          "name": "stdout",
          "text": [
            "{'name': 'nikhil', 'email': 'h@gmail.com', 'rank': 6, 'country': 'india'}\n",
            "{'name': 'nikhil', 'rank': 6, 'country': 'india'}\n"
          ]
        }
      ]
    },
    {
      "cell_type": "code",
      "source": [
        "gamer={'name':'nikhil','email':'h@gmail.com','age':45,'rank':3}\n",
        "print(type(gamer))\n",
        "\n",
        "for k,v in gamer.items():\n",
        "  print(k,v)"
      ],
      "metadata": {
        "colab": {
          "base_uri": "https://localhost:8080/"
        },
        "id": "LxwsNsRzkc1J",
        "outputId": "72cf6fe5-941d-458d-8498-9ad12ba64d7a"
      },
      "execution_count": 12,
      "outputs": [
        {
          "output_type": "stream",
          "name": "stdout",
          "text": [
            "<class 'dict'>\n",
            "name nikhil\n",
            "email h@gmail.com\n",
            "age 45\n",
            "rank 3\n"
          ]
        }
      ]
    }
  ]
}