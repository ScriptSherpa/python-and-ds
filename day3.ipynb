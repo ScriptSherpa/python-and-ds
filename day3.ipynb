{
  "nbformat": 4,
  "nbformat_minor": 0,
  "metadata": {
    "colab": {
      "provenance": [],
      "authorship_tag": "ABX9TyNMdCppt1g4Eg6aZ2GK3lgO",
      "include_colab_link": true
    },
    "kernelspec": {
      "name": "python3",
      "display_name": "Python 3"
    },
    "language_info": {
      "name": "python"
    }
  },
  "cells": [
    {
      "cell_type": "markdown",
      "metadata": {
        "id": "view-in-github",
        "colab_type": "text"
      },
      "source": [
        "<a href=\"https://colab.research.google.com/github/ScriptSherpa/python-and-ds/blob/main/day3.ipynb\" target=\"_parent\"><img src=\"https://colab.research.google.com/assets/colab-badge.svg\" alt=\"Open In Colab\"/></a>"
      ]
    },
    {
      "cell_type": "code",
      "execution_count": 1,
      "metadata": {
        "id": "AahbrbrRyBw0",
        "colab": {
          "base_uri": "https://localhost:8080/"
        },
        "outputId": "258223e1-a116-4835-bed4-b0391db7f469"
      },
      "outputs": [
        {
          "output_type": "stream",
          "name": "stdout",
          "text": [
            "\n",
            "temperature :\n",
            "\n",
            "kula lampur : 27 degree\n",
            "new delhi : 16 degree\n",
            "\n"
          ]
        }
      ],
      "source": [
        "#in pyhton strings we can use ''' to declare string  preserve the text formatting\n",
        "print('''\n",
        "temperature :\n",
        "\n",
        "kula lampur : 27 degree\n",
        "new delhi : 16 degree\n",
        "''')"
      ]
    },
    {
      "cell_type": "code",
      "source": [
        "# string concatentaion\n",
        "\n",
        "fname=\"nikhil\"\n",
        "lname=\"malvi\"\n",
        "course=\"mern\"\n",
        "\n",
        "#welcome nikhil malvi in the wolr of mern\n",
        "\n",
        "print(\"welcome \" + fname)\n",
        "print(\"welcome \"+fname+\" \"+lname+\" in the world of \"+course)"
      ],
      "metadata": {
        "colab": {
          "base_uri": "https://localhost:8080/"
        },
        "id": "94oXzyuMJfJE",
        "outputId": "de1ba738-f075-46a0-98b3-b2211f19f3e7"
      },
      "execution_count": 7,
      "outputs": [
        {
          "output_type": "stream",
          "name": "stdout",
          "text": [
            "welcome nikhil\n",
            "welcome nikhil malvi in the world of mern\n"
          ]
        }
      ]
    },
    {
      "cell_type": "code",
      "source": [
        "from typing import OrderedDict\n",
        "#string formatting\n",
        "#str.format()\n",
        "\n",
        "\n",
        "#1. default Ordered\n",
        "\n",
        "default_order=\"{} {} {} {}.\".format('python','is','very','easy')\n",
        "print(default_order)"
      ],
      "metadata": {
        "colab": {
          "base_uri": "https://localhost:8080/"
        },
        "id": "ebsdwkJKLf2M",
        "outputId": "96b02486-c80e-40eb-b53c-5c7a4ede7106"
      },
      "execution_count": 11,
      "outputs": [
        {
          "output_type": "stream",
          "name": "stdout",
          "text": [
            "python is very easy.\n"
          ]
        }
      ]
    },
    {
      "cell_type": "code",
      "source": [
        "#2.positonal order\n",
        "\n",
        "positional_order=\"{2} {0} {1} .\".format('python','is','very',)\n",
        "print(positional_order)"
      ],
      "metadata": {
        "colab": {
          "base_uri": "https://localhost:8080/"
        },
        "id": "Y_x6NKXkMQs0",
        "outputId": "7b634f0d-898e-4b0e-c867-841c31a678d3"
      },
      "execution_count": 12,
      "outputs": [
        {
          "output_type": "stream",
          "name": "stdout",
          "text": [
            "very python is .\n"
          ]
        }
      ]
    },
    {
      "cell_type": "code",
      "source": [
        "#3, keyword_order\n",
        "\n",
        "keyword_order=\"{a} {b} {c} {d}.\".format(a='python',b='is',c='very',d='easy')\n",
        "print(keyword_order)"
      ],
      "metadata": {
        "colab": {
          "base_uri": "https://localhost:8080/"
        },
        "id": "-4o7eqaqMxDQ",
        "outputId": "6dc1e66e-85a1-4dc8-ed4d-11daf79b5bfb"
      },
      "execution_count": 13,
      "outputs": [
        {
          "output_type": "stream",
          "name": "stdout",
          "text": [
            "python is very easy.\n"
          ]
        }
      ]
    },
    {
      "cell_type": "code",
      "source": [
        "# type conversion\n",
        "# type casting\n",
        "\n",
        "\n",
        "# implicit type casting\n",
        "\n",
        "int_value=10\n",
        "float_value=67.78\n",
        "res=int_value + float_value\n",
        "print(res)\n",
        "\n",
        "# pyhton always convert smaller data types to larger data type\n",
        "\n",
        "#explicit type casting\n",
        "int_value=123\n",
        "str_value=\"456\"\n",
        "res=int_value + int(str_value)\n",
        "print(res)\n",
        "\n",
        "#taking user input\n",
        "#input()-->help you to take user input\n",
        "\n",
        "name = input(\"enter your name\")\n",
        "print(\"welcome \"+ name)"
      ],
      "metadata": {
        "colab": {
          "base_uri": "https://localhost:8080/"
        },
        "id": "xxRJQZ6aNJbg",
        "outputId": "deb07df8-4596-4693-ef17-45f252bdbd5d"
      },
      "execution_count": 22,
      "outputs": [
        {
          "output_type": "stream",
          "name": "stdout",
          "text": [
            "77.78\n",
            "579\n",
            "enter your namenikhil\n",
            "welcome nikhil\n"
          ]
        }
      ]
    },
    {
      "cell_type": "code",
      "source": [
        "# type casting\n",
        "\n",
        "num1= int(input(\"enter first number\"))\n",
        "num2= int(input(\"enter second number\"))\n",
        "res=num1+num2\n",
        "print('result',res)"
      ],
      "metadata": {
        "colab": {
          "base_uri": "https://localhost:8080/"
        },
        "id": "CRT4sotUR_-i",
        "outputId": "d04975b8-eeeb-455f-bbf2-a8391905f239"
      },
      "execution_count": 25,
      "outputs": [
        {
          "output_type": "stream",
          "name": "stdout",
          "text": [
            "enter first number56\n",
            "enter second number90\n",
            "result 146\n"
          ]
        }
      ]
    }
  ]
}