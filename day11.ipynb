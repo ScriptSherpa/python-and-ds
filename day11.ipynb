{
  "nbformat": 4,
  "nbformat_minor": 0,
  "metadata": {
    "colab": {
      "provenance": [],
      "authorship_tag": "ABX9TyPMGAG8cEfh4WYOW77nTjow",
      "include_colab_link": true
    },
    "kernelspec": {
      "name": "python3",
      "display_name": "Python 3"
    },
    "language_info": {
      "name": "python"
    }
  },
  "cells": [
    {
      "cell_type": "markdown",
      "metadata": {
        "id": "view-in-github",
        "colab_type": "text"
      },
      "source": [
        "<a href=\"https://colab.research.google.com/github/ScriptSherpa/python-and-ds/blob/main/day11.ipynb\" target=\"_parent\"><img src=\"https://colab.research.google.com/assets/colab-badge.svg\" alt=\"Open In Colab\"/></a>"
      ]
    },
    {
      "cell_type": "code",
      "execution_count": 1,
      "metadata": {
        "colab": {
          "base_uri": "https://localhost:8080/"
        },
        "id": "tDY1IS7AV-qj",
        "outputId": "93ed7302-5598-4401-849f-5c47ae80452e"
      },
      "outputs": [
        {
          "output_type": "stream",
          "name": "stdout",
          "text": [
            "N\n",
            "e\n",
            "x\n",
            "p\n",
            "e\n",
            "r\n",
            "t\n",
            "s\n"
          ]
        }
      ],
      "source": [
        "# break continue and else in loop\n",
        "\n",
        "#  without break statement\n",
        "\n",
        "for char in \"Nexperts\":\n",
        "    print(char)\n",
        "\n"
      ]
    },
    {
      "cell_type": "code",
      "source": [
        "# with break\n",
        "for char in \"Nexperts\":\n",
        "  if char == \"r\":\n",
        "    break\n",
        "  print(char)"
      ],
      "metadata": {
        "colab": {
          "base_uri": "https://localhost:8080/"
        },
        "id": "Tqr5vS57XAAk",
        "outputId": "d83c827f-5774-413a-c0f0-d2efa68747f3"
      },
      "execution_count": 7,
      "outputs": [
        {
          "output_type": "stream",
          "name": "stdout",
          "text": [
            "N\n",
            "e\n",
            "x\n",
            "p\n",
            "e\n"
          ]
        }
      ]
    },
    {
      "cell_type": "code",
      "source": [
        "# continue statement skip the upper loop\n",
        "for char in \"Nexperts\":\n",
        "  if char == \"x\" or char ==\"r\":\n",
        "    continue\n",
        "  print(char)"
      ],
      "metadata": {
        "colab": {
          "base_uri": "https://localhost:8080/"
        },
        "id": "O4sKYiz7XUzV",
        "outputId": "2accfd2a-2383-4b74-b674-d567297b6ec3"
      },
      "execution_count": 8,
      "outputs": [
        {
          "output_type": "stream",
          "name": "stdout",
          "text": [
            "N\n",
            "e\n",
            "p\n",
            "e\n",
            "t\n",
            "s\n"
          ]
        }
      ]
    },
    {
      "cell_type": "code",
      "source": [
        "# else in loops\n",
        "for char in \"Nexperts\":\n",
        "  if char == \"x\" or char ==\"r\":\n",
        "    continue\n",
        "  print(char)\n",
        "else:\n",
        "  print(\"loop completed\")"
      ],
      "metadata": {
        "colab": {
          "base_uri": "https://localhost:8080/"
        },
        "id": "xjVFSop4Xn4p",
        "outputId": "7879cb0c-693d-4b04-b427-e8ae0445eb28"
      },
      "execution_count": 9,
      "outputs": [
        {
          "output_type": "stream",
          "name": "stdout",
          "text": [
            "N\n",
            "e\n",
            "p\n",
            "e\n",
            "t\n",
            "s\n",
            "loop completed\n"
          ]
        }
      ]
    }
  ]
}