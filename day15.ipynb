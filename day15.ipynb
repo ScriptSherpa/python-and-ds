{
  "nbformat": 4,
  "nbformat_minor": 0,
  "metadata": {
    "colab": {
      "provenance": [],
      "authorship_tag": "ABX9TyNDJmu4LOA6Om/FBnNn5ZsG",
      "include_colab_link": true
    },
    "kernelspec": {
      "name": "python3",
      "display_name": "Python 3"
    },
    "language_info": {
      "name": "python"
    }
  },
  "cells": [
    {
      "cell_type": "markdown",
      "metadata": {
        "id": "view-in-github",
        "colab_type": "text"
      },
      "source": [
        "<a href=\"https://colab.research.google.com/github/ScriptSherpa/python-and-ds/blob/main/day15.ipynb\" target=\"_parent\"><img src=\"https://colab.research.google.com/assets/colab-badge.svg\" alt=\"Open In Colab\"/></a>"
      ]
    },
    {
      "cell_type": "code",
      "execution_count": null,
      "metadata": {
        "id": "rSBX7e6_mdzr"
      },
      "outputs": [],
      "source": [
        "'''\n",
        "Classes:\n",
        "Definition:\n",
        "A class is a blueprint or template for creating objects.\n",
        "It defines the properties (attributes) and behaviors (methods) that\n",
        " the objects created from it will have.\n",
        "\n",
        "Key Features of Classes:\n",
        "\n",
        "Attributes: Variables that belong to the class and describe the properties\n",
        "of the objects (e.g., name, age).\n",
        "Methods: Functions defined within the class that operate on the class's\n",
        " attributes or perform specific actions.\n",
        "\n",
        " Objects:\n",
        "Definition:\n",
        "An object is an instance of a class. It represents a specific entity\n",
        "created from the blueprint defined by the class. Each object has its\n",
        "own unique values for the attributes defined in the class.\n",
        "\n",
        "Key Features of Objects:\n",
        "Created using the class's constructor method (usually __init__ in Python).\n",
        "Can have different attribute values but share the same structure and behavior\n",
        "as defined by the class.\n",
        "'''"
      ]
    },
    {
      "cell_type": "code",
      "source": [
        "class myClass:\n",
        "  #my first class  in programming\n",
        "  a2= 10\n",
        "  b6= 'python'\n",
        "\n",
        "  def func1():\n",
        "    print('this is the method of a class ')\n",
        "\n",
        "  def func2():\n",
        "    print('this is anoher methood of the class')\n",
        "\n"
      ],
      "metadata": {
        "id": "YkjG74-3BiIA"
      },
      "execution_count": 2,
      "outputs": []
    },
    {
      "cell_type": "code",
      "source": [
        "print(myClass.a2)\n",
        "myClass.func1()"
      ],
      "metadata": {
        "colab": {
          "base_uri": "https://localhost:8080/"
        },
        "id": "XB18z4-OFQtw",
        "outputId": "7c703d1d-4d24-4318-afe7-731ce755e8a1"
      },
      "execution_count": 3,
      "outputs": [
        {
          "output_type": "stream",
          "name": "stdout",
          "text": [
            "10\n",
            "this is the method of a class \n"
          ]
        }
      ]
    },
    {
      "cell_type": "code",
      "source": [
        "class myClass:\n",
        "  #my first class  in programming\n",
        "  a2= 10\n",
        "  b2= 'python'\n",
        "\n",
        "  def func1(self):\n",
        "    print('this is the method of a class ')\n",
        "\n",
        "  def func2(self):\n",
        "    print('this is anoher methood of the class')\n",
        "obj1 =myClass()\n",
        "obj2=myClass()\n",
        "\n",
        "print(obj1.a2)\n",
        "obj1.func1()\n",
        "obj1.func2()\n",
        "\n",
        "print(obj2.b2)\n",
        "obj2.func1()\n",
        "obj2.func2()"
      ],
      "metadata": {
        "colab": {
          "base_uri": "https://localhost:8080/"
        },
        "id": "SgePnzjNFSbK",
        "outputId": "37dad1f1-f79d-4e91-9917-4acee7a8adf0"
      },
      "execution_count": 10,
      "outputs": [
        {
          "output_type": "stream",
          "name": "stdout",
          "text": [
            "10\n",
            "this is the method of a class \n",
            "this is anoher methood of the class\n",
            "python\n",
            "this is the method of a class \n",
            "this is anoher methood of the class\n"
          ]
        }
      ]
    },
    {
      "cell_type": "markdown",
      "source": [],
      "metadata": {
        "id": "Cv6ecyz6Fcis"
      }
    },
    {
      "cell_type": "code",
      "source": [
        "class stInfo:\n",
        "\n",
        "  def __init__(self,name,course,age):\n",
        "    self.name=name\n",
        "    self.course=course\n",
        "    self.age=age\n",
        "\n",
        "  def printstinfo(self):\n",
        "    print(f\"Student name is {self.name} and course is {self.course} and age is {self.age}\")\n",
        "  def printNames(self):\n",
        "    print(f\"Student name is {self.name}\")\n",
        "\n",
        "st1=stInfo('john','pyhton',34)\n",
        "st2=stInfo('nick','java',45)\n",
        "st3=stInfo('kine','c++',67)\n",
        "\n",
        "st1.printstinfo()\n",
        "st2.printstinfo()\n",
        "st3.printstinfo()\n",
        "st1.printNames()\n"
      ],
      "metadata": {
        "colab": {
          "base_uri": "https://localhost:8080/"
        },
        "id": "n2IGAmrHLys9",
        "outputId": "9de9336d-294c-4160-f0c8-9cd0357b3989"
      },
      "execution_count": 11,
      "outputs": [
        {
          "output_type": "stream",
          "name": "stdout",
          "text": [
            "Student name is john and course is pyhton and age is 34\n",
            "Student name is nick and course is java and age is 45\n",
            "Student name is kine and course is c++ and age is 67\n",
            "Student name is john\n"
          ]
        }
      ]
    },
    {
      "cell_type": "markdown",
      "source": [],
      "metadata": {
        "id": "OzauDQs5FcdM"
      }
    },
    {
      "cell_type": "code",
      "source": [
        "# Division with error handling for division by zero\n",
        "try:\n",
        "    # Input two numbers\n",
        "    numerator = int(input(\"Enter the numerator: \"))  # Prompt user for numerator\n",
        "    denominator = int(input(\"Enter the denominator: \"))  # Prompt user for denominator\n",
        "\n",
        "    # Attempt division\n",
        "    result = numerator / denominator\n",
        "    print(f\"The result is: {result}\")  # Output the result\n",
        "\n",
        "except ZeroDivisionError:\n",
        "    # Handle division by zero\n",
        "    print(\"Error: Division by zero is not allowed.\")\n",
        "\n",
        "except ValueError:\n",
        "    # Handle invalid input (non-integer)\n",
        "    print(\"Error: Please enter valid integers.\")\n",
        "\n",
        "finally:\n",
        "    # Code that always runs\n",
        "    print(\"Division operation attempted.\")\n"
      ],
      "metadata": {
        "colab": {
          "base_uri": "https://localhost:8080/"
        },
        "id": "bX9w-XCOQda0",
        "outputId": "16c2a4f6-73cf-475f-8b77-b59ed47126df"
      },
      "execution_count": 12,
      "outputs": [
        {
          "output_type": "stream",
          "name": "stdout",
          "text": [
            "Enter the numerator: 45\n",
            "Enter the denominator: 0\n",
            "Error: Division by zero is not allowed.\n",
            "Division operation attempted.\n"
          ]
        }
      ]
    }
  ]
}