{
  "nbformat": 4,
  "nbformat_minor": 0,
  "metadata": {
    "colab": {
      "provenance": [],
      "authorship_tag": "ABX9TyMTSHryjcdozKk6IsryCtPi",
      "include_colab_link": true
    },
    "kernelspec": {
      "name": "python3",
      "display_name": "Python 3"
    },
    "language_info": {
      "name": "python"
    }
  },
  "cells": [
    {
      "cell_type": "markdown",
      "metadata": {
        "id": "view-in-github",
        "colab_type": "text"
      },
      "source": [
        "<a href=\"https://colab.research.google.com/github/ScriptSherpa/python-and-ds/blob/main/day_5.ipynb\" target=\"_parent\"><img src=\"https://colab.research.google.com/assets/colab-badge.svg\" alt=\"Open In Colab\"/></a>"
      ]
    },
    {
      "cell_type": "code",
      "execution_count": null,
      "metadata": {
        "colab": {
          "base_uri": "https://localhost:8080/"
        },
        "id": "FVYliL1-Xv1Z",
        "outputId": "90670a10-220c-4a08-e93a-59aaf6ade319"
      },
      "outputs": [
        {
          "output_type": "stream",
          "name": "stdout",
          "text": [
            "you can play this game \n"
          ]
        }
      ],
      "source": [
        " # decsion making in pyhton programming\n",
        "\n",
        " # IF statement\n",
        "\n",
        " age = 45\n",
        "\n",
        "#if (age>=15):\n",
        "if age>=15:\n",
        "    print('you can play this game ')"
      ]
    },
    {
      "cell_type": "code",
      "source": [
        "num = int(input(\"enter any number \"))\n",
        "if num%2==0:\n",
        "    print('number is even')\n",
        "else:\n",
        "    print('number is odd')"
      ],
      "metadata": {
        "colab": {
          "base_uri": "https://localhost:8080/"
        },
        "id": "cHpAUbl8c1Fr",
        "outputId": "b87c6735-84ae-4608-94bc-3233e4544c61"
      },
      "execution_count": null,
      "outputs": [
        {
          "output_type": "stream",
          "name": "stdout",
          "text": [
            "enter any number 56\n",
            "number is even\n"
          ]
        }
      ]
    },
    {
      "cell_type": "code",
      "source": [
        "# task\n",
        "# declare 5 int var and determine which is largest\n",
        "# do not use logical operatotrs or inbuilt function\n",
        "\n",
        "a=2\n",
        "b=4\n",
        "c=7\n",
        "d=8\n",
        "e=9\n",
        "largest = 0\n",
        "if a>largest:\n",
        "    largest=a\n",
        "if b>largest:\n",
        "    largest=b\n",
        "if c>largest:\n",
        "    largest=c\n",
        "if d>largest:\n",
        "    largest=d\n",
        "if e>largest:\n",
        "    largest=e\n",
        "print(largest)"
      ],
      "metadata": {
        "colab": {
          "base_uri": "https://localhost:8080/"
        },
        "id": "8R1YmNBMdJBQ",
        "outputId": "ca382da5-14b3-4340-9ba1-f7ed13677713"
      },
      "execution_count": 7,
      "outputs": [
        {
          "output_type": "stream",
          "name": "stdout",
          "text": [
            "9\n"
          ]
        }
      ]
    },
    {
      "cell_type": "code",
      "source": [
        "# IF and ELSE STATEMENT\n",
        "\n",
        "age = 23\n",
        "if age>=18:\n",
        "    print('you can vote')\n",
        "else:\n",
        "    print('you cannot vote')"
      ],
      "metadata": {
        "colab": {
          "base_uri": "https://localhost:8080/"
        },
        "id": "6ZKQeG6QiWVc",
        "outputId": "27c559d1-fcf9-4698-cd46-7f8e0b112e74"
      },
      "execution_count": 13,
      "outputs": [
        {
          "output_type": "stream",
          "name": "stdout",
          "text": [
            "you can vote\n"
          ]
        }
      ]
    },
    {
      "cell_type": "code",
      "source": [
        "num=int(input('enter any number'))\n",
        "if num%2==0:\n",
        "    print('number is even')\n",
        "else:\n",
        "    print('number is odd')"
      ],
      "metadata": {
        "id": "y26WiNfNeavF",
        "colab": {
          "base_uri": "https://localhost:8080/"
        },
        "outputId": "2eee9796-f2df-432d-9747-5a2eb14d6a40"
      },
      "execution_count": 14,
      "outputs": [
        {
          "output_type": "stream",
          "name": "stdout",
          "text": [
            "enter any number24\n",
            "number is even\n"
          ]
        }
      ]
    },
    {
      "cell_type": "code",
      "source": [
        "# if elif else statement\n",
        "\n",
        "num =int(input('enter any number'))\n",
        "if num>0: # 18>0 (true)\n",
        "    print('number is positive')\n",
        "elif num<0: # -4 < 0 (true)\n",
        "    print('number is negative')\n",
        "else: #0 == 0 (true)\n",
        "    print('number is zero')"
      ],
      "metadata": {
        "colab": {
          "base_uri": "https://localhost:8080/"
        },
        "id": "bvBEqhnEky5B",
        "outputId": "688e2971-8341-45b5-d872-f410899aded5"
      },
      "execution_count": 15,
      "outputs": [
        {
          "output_type": "stream",
          "name": "stdout",
          "text": [
            "enter any number-3\n",
            "number is negative\n"
          ]
        }
      ]
    },
    {
      "cell_type": "code",
      "source": [
        "# task\n",
        "# final mark from student\n",
        "# print the grades\n",
        "\n",
        "marks=int(input('enter your marks'))\n",
        "if marks>=90:\n",
        "    print('Grade A')\n",
        "elif marks>=80:\n",
        "    print('Grade B')\n",
        "elif marks>=70:\n",
        "    print('Grade C')\n",
        "elif marks>=60:\n",
        "    print('Grade D')\n",
        "elif marks>=50:\n",
        "    print('Grade E')\n",
        "else:\n",
        "    print('Grade F')"
      ],
      "metadata": {
        "colab": {
          "base_uri": "https://localhost:8080/"
        },
        "id": "y38cjKIClkhF",
        "outputId": "02113279-663d-461a-c95f-da3c5b2d39f6"
      },
      "execution_count": 16,
      "outputs": [
        {
          "output_type": "stream",
          "name": "stdout",
          "text": [
            "enter your marks99\n",
            "Grade A\n"
          ]
        }
      ]
    }
  ]
}