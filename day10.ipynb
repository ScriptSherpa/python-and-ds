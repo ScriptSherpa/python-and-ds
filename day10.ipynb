{
  "nbformat": 4,
  "nbformat_minor": 0,
  "metadata": {
    "colab": {
      "provenance": [],
      "authorship_tag": "ABX9TyMimFJSnZGHPi1Bn9Xjljqf",
      "include_colab_link": true
    },
    "kernelspec": {
      "name": "python3",
      "display_name": "Python 3"
    },
    "language_info": {
      "name": "python"
    }
  },
  "cells": [
    {
      "cell_type": "markdown",
      "metadata": {
        "id": "view-in-github",
        "colab_type": "text"
      },
      "source": [
        "<a href=\"https://colab.research.google.com/github/ScriptSherpa/python-and-ds/blob/main/day10.ipynb\" target=\"_parent\"><img src=\"https://colab.research.google.com/assets/colab-badge.svg\" alt=\"Open In Colab\"/></a>"
      ]
    },
    {
      "cell_type": "code",
      "execution_count": 2,
      "metadata": {
        "colab": {
          "base_uri": "https://localhost:8080/"
        },
        "id": "NixtWdOKS3mT",
        "outputId": "37a57b6f-f679-45fe-80df-bd8dbba02bcb"
      },
      "outputs": [
        {
          "output_type": "stream",
          "name": "stdout",
          "text": [
            "1\n",
            "2\n",
            "3\n",
            "4\n",
            "5\n",
            "6\n",
            "7\n",
            "8\n",
            "9\n",
            "10\n"
          ]
        }
      ],
      "source": [
        "# while loop in pyhton\n",
        "\n",
        "i = 1\n",
        "while i<=10:\n",
        "    print(i)\n",
        "    i =i+1"
      ]
    },
    {
      "cell_type": "code",
      "source": [
        "num_of_marks = int(input(\" how many subject marks you wish to enter :\"))\n",
        "\n",
        "i = 1\n",
        "while i<=num_of_marks:\n",
        "     print('enter marks',i)\n",
        "     marks = int(input())\n",
        "     i = i+1\n",
        ""
      ],
      "metadata": {
        "colab": {
          "base_uri": "https://localhost:8080/"
        },
        "id": "_CksixcYUzre",
        "outputId": "09af6a83-bd73-46c0-d71c-2747f88edc52"
      },
      "execution_count": 4,
      "outputs": [
        {
          "name": "stdout",
          "output_type": "stream",
          "text": [
            " how many subject marks you wish to enter :5\n",
            "enter marks 1\n",
            "45\n",
            "enter marks 2\n",
            "77\n",
            "enter marks 3\n",
            "88\n",
            "enter marks 4\n",
            "87\n",
            "enter marks 5\n",
            "54\n"
          ]
        }
      ]
    }
  ]
}