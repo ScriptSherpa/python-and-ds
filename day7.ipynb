{
  "nbformat": 4,
  "nbformat_minor": 0,
  "metadata": {
    "colab": {
      "provenance": [],
      "authorship_tag": "ABX9TyNC4D3v6z+J7fN0ZZrmDwqR",
      "include_colab_link": true
    },
    "kernelspec": {
      "name": "python3",
      "display_name": "Python 3"
    },
    "language_info": {
      "name": "python"
    }
  },
  "cells": [
    {
      "cell_type": "markdown",
      "metadata": {
        "id": "view-in-github",
        "colab_type": "text"
      },
      "source": [
        "<a href=\"https://colab.research.google.com/github/ScriptSherpa/python-and-ds/blob/main/day7.ipynb\" target=\"_parent\"><img src=\"https://colab.research.google.com/assets/colab-badge.svg\" alt=\"Open In Colab\"/></a>"
      ]
    },
    {
      "cell_type": "code",
      "execution_count": 2,
      "metadata": {
        "colab": {
          "base_uri": "https://localhost:8080/"
        },
        "id": "tYySfLi3wGKi",
        "outputId": "b302bd24-30a4-4329-bc12-49c17eb561a4"
      },
      "outputs": [
        {
          "output_type": "stream",
          "name": "stdout",
          "text": [
            "[0, 1, 2, 3, 4, 5, 6, 7, 8, 9, 10, 11, 12, 13, 14, 15, 16, 17, 18]\n"
          ]
        }
      ],
      "source": [
        "# range() function\n",
        "# range() function is used to generate a sequence of interger values\n",
        "\n",
        "# 1. range(x)\n",
        "# it is used to generate a sequence of integer values\n",
        "# starting from zero till x-1\n",
        "\n",
        "print(list(range(19)))"
      ]
    },
    {
      "cell_type": "code",
      "source": [
        "# 2. range(x,y)\n",
        "# is used to generate a sequence of trigger values\n",
        "# starting from x till y-1\n",
        "\n",
        "print(list(range(5 ,15)))"
      ],
      "metadata": {
        "colab": {
          "base_uri": "https://localhost:8080/"
        },
        "id": "4sFKUSxTwr0Y",
        "outputId": "fcdaf4a7-cf81-4096-8117-e189faa49aea"
      },
      "execution_count": 4,
      "outputs": [
        {
          "output_type": "stream",
          "name": "stdout",
          "text": [
            "[5, 6, 7, 8, 9, 10, 11, 12, 13, 14]\n"
          ]
        }
      ]
    },
    {
      "cell_type": "code",
      "source": [
        "# 3. range(x,y,stepsize)\n",
        "print(list(range(1,23,2)))"
      ],
      "metadata": {
        "colab": {
          "base_uri": "https://localhost:8080/"
        },
        "id": "wGAEAaKhyIh2",
        "outputId": "1f4534d7-771e-42c7-c574-47fd20006199"
      },
      "execution_count": 6,
      "outputs": [
        {
          "output_type": "stream",
          "name": "stdout",
          "text": [
            "[1, 3, 5, 7, 9, 11, 13, 15, 17, 19, 21]\n"
          ]
        }
      ]
    },
    {
      "cell_type": "code",
      "source": [
        "for i in range(11):\n",
        "    print(i,'nikhil')"
      ],
      "metadata": {
        "colab": {
          "base_uri": "https://localhost:8080/"
        },
        "id": "H0n3XMtAymGN",
        "outputId": "93f7fe49-ea17-40f1-bd3c-11b458ea34ed"
      },
      "execution_count": 7,
      "outputs": [
        {
          "output_type": "stream",
          "name": "stdout",
          "text": [
            "0 nikhil\n",
            "1 nikhil\n",
            "2 nikhil\n",
            "3 nikhil\n",
            "4 nikhil\n",
            "5 nikhil\n",
            "6 nikhil\n",
            "7 nikhil\n",
            "8 nikhil\n",
            "9 nikhil\n",
            "10 nikhil\n"
          ]
        }
      ]
    },
    {
      "cell_type": "code",
      "source": [
        "\n",
        "num=13\n",
        "for i in range(1,11):\n",
        "    print(num,'x',i,'=',num*i)\n",
        "\n"
      ],
      "metadata": {
        "colab": {
          "base_uri": "https://localhost:8080/"
        },
        "id": "t-Jss7GZy9t3",
        "outputId": "e4ae8f9f-1eb0-4bff-a689-ff87866da1f6"
      },
      "execution_count": 8,
      "outputs": [
        {
          "output_type": "stream",
          "name": "stdout",
          "text": [
            "13 x 1 = 13\n",
            "13 x 2 = 26\n",
            "13 x 3 = 39\n",
            "13 x 4 = 52\n",
            "13 x 5 = 65\n",
            "13 x 6 = 78\n",
            "13 x 7 = 91\n",
            "13 x 8 = 104\n",
            "13 x 9 = 117\n",
            "13 x 10 = 130\n"
          ]
        }
      ]
    }
  ]
}