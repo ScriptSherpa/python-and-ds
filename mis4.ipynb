{
  "nbformat": 4,
  "nbformat_minor": 0,
  "metadata": {
    "colab": {
      "provenance": [],
      "authorship_tag": "ABX9TyN10i2MD2hDm3sya26UqJcR",
      "include_colab_link": true
    },
    "kernelspec": {
      "name": "python3",
      "display_name": "Python 3"
    },
    "language_info": {
      "name": "python"
    }
  },
  "cells": [
    {
      "cell_type": "markdown",
      "metadata": {
        "id": "view-in-github",
        "colab_type": "text"
      },
      "source": [
        "<a href=\"https://colab.research.google.com/github/ScriptSherpa/python-and-ds/blob/main/mis4.ipynb\" target=\"_parent\"><img src=\"https://colab.research.google.com/assets/colab-badge.svg\" alt=\"Open In Colab\"/></a>"
      ]
    },
    {
      "cell_type": "code",
      "execution_count": 8,
      "metadata": {
        "colab": {
          "base_uri": "https://localhost:8080/"
        },
        "id": "pdLpQnEZ_zsD",
        "outputId": "7cd37066-5d27-4e5f-e643-5a6b72814163"
      },
      "outputs": [
        {
          "output_type": "stream",
          "name": "stdout",
          "text": [
            "[[ 3  4 56  7]\n",
            " [ 6  7  8  9]]\n"
          ]
        }
      ],
      "source": [
        "import numpy as np\n",
        "array1=np.array([[3,4,56,7],[6,7,8,9]],dtype='int32')\n",
        "print(array1)"
      ]
    },
    {
      "cell_type": "code",
      "source": [
        "array1.shape\n"
      ],
      "metadata": {
        "colab": {
          "base_uri": "https://localhost:8080/"
        },
        "id": "77YmSdQUAizX",
        "outputId": "0217a1f3-eaca-4215-e9bf-4092d0d3faf7"
      },
      "execution_count": 5,
      "outputs": [
        {
          "output_type": "execute_result",
          "data": {
            "text/plain": [
              "(2, 4)"
            ]
          },
          "metadata": {},
          "execution_count": 5
        }
      ]
    },
    {
      "cell_type": "code",
      "source": [
        "array1.dtype"
      ],
      "metadata": {
        "colab": {
          "base_uri": "https://localhost:8080/"
        },
        "id": "JsfOPj7KAl1S",
        "outputId": "69e74591-b75c-4ab8-80e8-857a3d531735"
      },
      "execution_count": 9,
      "outputs": [
        {
          "output_type": "execute_result",
          "data": {
            "text/plain": [
              "dtype('int32')"
            ]
          },
          "metadata": {},
          "execution_count": 9
        }
      ]
    },
    {
      "cell_type": "code",
      "source": [
        "np.zeros((4,6))"
      ],
      "metadata": {
        "colab": {
          "base_uri": "https://localhost:8080/"
        },
        "id": "0B97uN1PA2qg",
        "outputId": "141e84cd-a36c-42e7-b7d4-02417516af54"
      },
      "execution_count": 11,
      "outputs": [
        {
          "output_type": "execute_result",
          "data": {
            "text/plain": [
              "array([[0., 0., 0., 0., 0., 0.],\n",
              "       [0., 0., 0., 0., 0., 0.],\n",
              "       [0., 0., 0., 0., 0., 0.],\n",
              "       [0., 0., 0., 0., 0., 0.]])"
            ]
          },
          "metadata": {},
          "execution_count": 11
        }
      ]
    },
    {
      "cell_type": "code",
      "source": [
        "np.ones(6)\n",
        "\n",
        "np.ones(6).dtype"
      ],
      "metadata": {
        "colab": {
          "base_uri": "https://localhost:8080/"
        },
        "id": "kuRZyLiqA-ww",
        "outputId": "1ba54d70-ab7a-4245-ae95-6351848ffb30"
      },
      "execution_count": 14,
      "outputs": [
        {
          "output_type": "execute_result",
          "data": {
            "text/plain": [
              "dtype('float64')"
            ]
          },
          "metadata": {},
          "execution_count": 14
        }
      ]
    },
    {
      "cell_type": "code",
      "source": [
        "np.empty((4,6))"
      ],
      "metadata": {
        "colab": {
          "base_uri": "https://localhost:8080/"
        },
        "id": "lFnjJlQHBJXV",
        "outputId": "ff800592-e064-41a6-c92e-f32951750cfb"
      },
      "execution_count": 15,
      "outputs": [
        {
          "output_type": "execute_result",
          "data": {
            "text/plain": [
              "array([[0., 0., 0., 0., 0., 0.],\n",
              "       [0., 0., 0., 0., 0., 0.],\n",
              "       [0., 0., 0., 0., 0., 0.],\n",
              "       [0., 0., 0., 0., 0., 0.]])"
            ]
          },
          "metadata": {},
          "execution_count": 15
        }
      ]
    },
    {
      "cell_type": "code",
      "source": [
        "# prompt: array1\n",
        "\n",
        "import numpy as np\n",
        "print(array1[1,1])\n",
        "print(array1[0,:])\n",
        "print(array1[:,2])\n",
        "array1[1,1] = 10\n",
        "print(array1)\n",
        "array2 = np.array([1,2,3,4,5])\n",
        "print(array1.dtype)\n",
        "print(array2.dtype)\n",
        "array1 + 2\n",
        "array1 * 2\n",
        "array1 / 2\n",
        "array3 = np.array([[1,2,3,4,5],[6,7,8,9,10]])\n",
        "array1 + array3\n",
        "np.add(array1, array3)\n",
        "np.subtract(array1,array3)\n",
        "np.multiply(array1,array3)\n",
        "array1.shape\n",
        "array3.shape\n",
        "array1 * array3\n",
        "np.dot(array1,array3)\n",
        "np.dot(array1,array3.T)\n",
        "np.random.random((3,5))\n",
        "np.random.rand(3,5)\n",
        "np.random.randint(1,100,size=(3,5))\n",
        "np.random.seed(1)\n",
        "np.random.randint(1,100,size=(3,5))\n",
        "np.random.seed(1)\n",
        "np.random.randint(1,100,size=(3,5))\n",
        "np.random.seed(1)\n",
        "np.random.randint(1,100,size=(3,5))\n",
        "np.random.seed(2)\n",
        "np.random.randint(1,100,size=(3,5))\n",
        "array1.max()\n",
        "array1.min()\n",
        "array1.mean()\n",
        "array1.argmax()\n",
        "array1.argmin()\n",
        "np.where(array1 > 10)\n",
        "array1[np.where(array1 > 10)]\n",
        "array1[array1 > 10]\n",
        "np.unique(array1)\n",
        "\n",
        "\n"
      ],
      "metadata": {
        "id": "_84tWYheBQ9j"
      },
      "execution_count": null,
      "outputs": []
    },
    {
      "cell_type": "code",
      "source": [
        "array1"
      ],
      "metadata": {
        "colab": {
          "base_uri": "https://localhost:8080/"
        },
        "id": "We_0st2PCeyW",
        "outputId": "dd28fa8c-dbe3-4110-ae4d-a811ceb094e4"
      },
      "execution_count": 16,
      "outputs": [
        {
          "output_type": "execute_result",
          "data": {
            "text/plain": [
              "array([[ 3,  4, 56,  7],\n",
              "       [ 6,  7,  8,  9]], dtype=int32)"
            ]
          },
          "metadata": {},
          "execution_count": 16
        }
      ]
    },
    {
      "cell_type": "code",
      "source": [
        "#array1**array1\n",
        "1/array1"
      ],
      "metadata": {
        "colab": {
          "base_uri": "https://localhost:8080/"
        },
        "id": "fgm8kYBkChSa",
        "outputId": "855bc359-e178-4af0-cffa-52bccb096e52"
      },
      "execution_count": 18,
      "outputs": [
        {
          "output_type": "execute_result",
          "data": {
            "text/plain": [
              "array([[0.33333333, 0.25      , 0.01785714, 0.14285714],\n",
              "       [0.16666667, 0.14285714, 0.125     , 0.11111111]])"
            ]
          },
          "metadata": {},
          "execution_count": 18
        }
      ]
    },
    {
      "cell_type": "code",
      "source": [
        "# SLICING\n",
        "array2=np.array([2,3,4,5,6,7,8,9])\n"
      ],
      "metadata": {
        "id": "o72RLeLBCvII"
      },
      "execution_count": 21,
      "outputs": []
    },
    {
      "cell_type": "code",
      "source": [
        "arr=array2[4:6]\n",
        "arr"
      ],
      "metadata": {
        "colab": {
          "base_uri": "https://localhost:8080/"
        },
        "id": "CYgfQfHGDcHc",
        "outputId": "f6cee898-9bba-4de2-bf4c-da372715bc78"
      },
      "execution_count": 22,
      "outputs": [
        {
          "output_type": "execute_result",
          "data": {
            "text/plain": [
              "array([6, 7])"
            ]
          },
          "metadata": {},
          "execution_count": 22
        }
      ]
    },
    {
      "cell_type": "code",
      "source": [
        "arr[0]=9\n",
        "arr\n"
      ],
      "metadata": {
        "colab": {
          "base_uri": "https://localhost:8080/"
        },
        "id": "JgtjxWi9Dg_l",
        "outputId": "8c8c1fb1-7616-4931-93da-4e5c5532722d"
      },
      "execution_count": 24,
      "outputs": [
        {
          "output_type": "execute_result",
          "data": {
            "text/plain": [
              "array([9, 7])"
            ]
          },
          "metadata": {},
          "execution_count": 24
        }
      ]
    },
    {
      "cell_type": "code",
      "source": [
        "array2"
      ],
      "metadata": {
        "colab": {
          "base_uri": "https://localhost:8080/"
        },
        "id": "bCC8xDt5DqMP",
        "outputId": "58ccd2b7-3a09-4b79-f2bc-83f87baad8bb"
      },
      "execution_count": 25,
      "outputs": [
        {
          "output_type": "execute_result",
          "data": {
            "text/plain": [
              "array([2, 3, 4, 5, 9, 7, 8, 9])"
            ]
          },
          "metadata": {},
          "execution_count": 25
        }
      ]
    },
    {
      "cell_type": "code",
      "source": [
        "ar3=np.array([[2,3,4],[5,6,7]])"
      ],
      "metadata": {
        "id": "0sTXgGfFDGN1"
      },
      "execution_count": 27,
      "outputs": []
    },
    {
      "cell_type": "code",
      "source": [
        "#ar3.sum(axis=0)\n",
        "ar3.sum(axis=1)"
      ],
      "metadata": {
        "colab": {
          "base_uri": "https://localhost:8080/"
        },
        "id": "57v_ooCoE88-",
        "outputId": "1acf34d8-6373-483d-a580-a1d3a010a1ba"
      },
      "execution_count": 29,
      "outputs": [
        {
          "output_type": "execute_result",
          "data": {
            "text/plain": [
              "array([ 9, 18])"
            ]
          },
          "metadata": {},
          "execution_count": 29
        }
      ]
    }
  ]
}