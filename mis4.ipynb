{
  "nbformat": 4,
  "nbformat_minor": 0,
  "metadata": {
    "colab": {
      "provenance": [],
      "authorship_tag": "ABX9TyP8mHUqDgq+aj5m4vIkOPvN",
      "include_colab_link": true
    },
    "kernelspec": {
      "name": "python3",
      "display_name": "Python 3"
    },
    "language_info": {
      "name": "python"
    }
  },
  "cells": [
    {
      "cell_type": "markdown",
      "metadata": {
        "id": "view-in-github",
        "colab_type": "text"
      },
      "source": [
        "<a href=\"https://colab.research.google.com/github/ScriptSherpa/python-and-ds/blob/main/mis4.ipynb\" target=\"_parent\"><img src=\"https://colab.research.google.com/assets/colab-badge.svg\" alt=\"Open In Colab\"/></a>"
      ]
    },
    {
      "cell_type": "code",
      "execution_count": null,
      "metadata": {
        "colab": {
          "base_uri": "https://localhost:8080/"
        },
        "id": "pdLpQnEZ_zsD",
        "outputId": "50f5ee45-2608-44e3-c44a-7014c91edbfc"
      },
      "outputs": [
        {
          "output_type": "stream",
          "name": "stdout",
          "text": [
            "[[ 3  4 56  7]\n",
            " [ 6  7  8  9]]\n"
          ]
        }
      ],
      "source": [
        "import numpy as np\n",
        "array1=np.array([[3,4,56,7],[6,7,8,9]],dtype='int32')\n",
        "print(array1)"
      ]
    },
    {
      "cell_type": "code",
      "source": [
        "array1.shape\n"
      ],
      "metadata": {
        "colab": {
          "base_uri": "https://localhost:8080/",
          "height": 141
        },
        "id": "77YmSdQUAizX",
        "outputId": "23b38fc0-5082-4307-e975-834cf1eb6ffe"
      },
      "execution_count": 1,
      "outputs": [
        {
          "output_type": "error",
          "ename": "NameError",
          "evalue": "name 'array1' is not defined",
          "traceback": [
            "\u001b[0;31m---------------------------------------------------------------------------\u001b[0m",
            "\u001b[0;31mNameError\u001b[0m                                 Traceback (most recent call last)",
            "\u001b[0;32m<ipython-input-1-99eae29d0fe6>\u001b[0m in \u001b[0;36m<cell line: 1>\u001b[0;34m()\u001b[0m\n\u001b[0;32m----> 1\u001b[0;31m \u001b[0marray1\u001b[0m\u001b[0;34m.\u001b[0m\u001b[0mshape\u001b[0m\u001b[0;34m\u001b[0m\u001b[0;34m\u001b[0m\u001b[0m\n\u001b[0m",
            "\u001b[0;31mNameError\u001b[0m: name 'array1' is not defined"
          ]
        }
      ]
    },
    {
      "cell_type": "code",
      "source": [
        "array1.dtype"
      ],
      "metadata": {
        "colab": {
          "base_uri": "https://localhost:8080/",
          "height": 141
        },
        "id": "JsfOPj7KAl1S",
        "outputId": "f66dc934-8e18-4983-d9a7-41e0436cc68c"
      },
      "execution_count": 2,
      "outputs": [
        {
          "output_type": "error",
          "ename": "NameError",
          "evalue": "name 'array1' is not defined",
          "traceback": [
            "\u001b[0;31m---------------------------------------------------------------------------\u001b[0m",
            "\u001b[0;31mNameError\u001b[0m                                 Traceback (most recent call last)",
            "\u001b[0;32m<ipython-input-2-7842d24dc3ad>\u001b[0m in \u001b[0;36m<cell line: 1>\u001b[0;34m()\u001b[0m\n\u001b[0;32m----> 1\u001b[0;31m \u001b[0marray1\u001b[0m\u001b[0;34m.\u001b[0m\u001b[0mdtype\u001b[0m\u001b[0;34m\u001b[0m\u001b[0;34m\u001b[0m\u001b[0m\n\u001b[0m",
            "\u001b[0;31mNameError\u001b[0m: name 'array1' is not defined"
          ]
        }
      ]
    },
    {
      "cell_type": "code",
      "source": [
        "np.zeros((4,6))"
      ],
      "metadata": {
        "id": "0B97uN1PA2qg"
      },
      "execution_count": null,
      "outputs": []
    },
    {
      "cell_type": "code",
      "source": [
        "np.ones(6)\n",
        "\n",
        "np.ones(6).dtype"
      ],
      "metadata": {
        "id": "kuRZyLiqA-ww"
      },
      "execution_count": null,
      "outputs": []
    },
    {
      "cell_type": "code",
      "source": [
        "np.empty((4,6))"
      ],
      "metadata": {
        "id": "lFnjJlQHBJXV"
      },
      "execution_count": null,
      "outputs": []
    },
    {
      "cell_type": "code",
      "source": [
        "# prompt: array1\n",
        "\n",
        "import numpy as np\n",
        "print(array1[1,1])\n",
        "print(array1[0,:])\n",
        "print(array1[:,2])\n",
        "array1[1,1] = 10\n",
        "print(array1)\n",
        "array2 = np.array([1,2,3,4,5])\n",
        "print(array1.dtype)\n",
        "print(array2.dtype)\n",
        "array1 + 2\n",
        "array1 * 2\n",
        "array1 / 2\n",
        "array3 = np.array([[1,2,3,4,5],[6,7,8,9,10]])\n",
        "array1 + array3\n",
        "np.add(array1, array3)\n",
        "np.subtract(array1,array3)\n",
        "np.multiply(array1,array3)\n",
        "array1.shape\n",
        "array3.shape\n",
        "array1 * array3\n",
        "np.dot(array1,array3)\n",
        "np.dot(array1,array3.T)\n",
        "np.random.random((3,5))\n",
        "np.random.rand(3,5)\n",
        "np.random.randint(1,100,size=(3,5))\n",
        "np.random.seed(1)\n",
        "np.random.randint(1,100,size=(3,5))\n",
        "np.random.seed(1)\n",
        "np.random.randint(1,100,size=(3,5))\n",
        "np.random.seed(1)\n",
        "np.random.randint(1,100,size=(3,5))\n",
        "np.random.seed(2)\n",
        "np.random.randint(1,100,size=(3,5))\n",
        "array1.max()\n",
        "array1.min()\n",
        "array1.mean()\n",
        "array1.argmax()\n",
        "array1.argmin()\n",
        "np.where(array1 > 10)\n",
        "array1[np.where(array1 > 10)]\n",
        "array1[array1 > 10]\n",
        "np.unique(array1)\n",
        "\n",
        "\n"
      ],
      "metadata": {
        "id": "_84tWYheBQ9j"
      },
      "execution_count": null,
      "outputs": []
    },
    {
      "cell_type": "code",
      "source": [
        "array1"
      ],
      "metadata": {
        "id": "We_0st2PCeyW"
      },
      "execution_count": null,
      "outputs": []
    },
    {
      "cell_type": "code",
      "source": [
        "#array1**array1\n",
        "1/array1"
      ],
      "metadata": {
        "id": "fgm8kYBkChSa"
      },
      "execution_count": null,
      "outputs": []
    },
    {
      "cell_type": "code",
      "source": [
        "# SLICING\n",
        "array2=np.array([2,3,4,5,6,7,8,9])\n"
      ],
      "metadata": {
        "id": "o72RLeLBCvII",
        "colab": {
          "base_uri": "https://localhost:8080/",
          "height": 158
        },
        "outputId": "fa227ebc-6926-42c9-f482-8029e706f7a1"
      },
      "execution_count": 3,
      "outputs": [
        {
          "output_type": "error",
          "ename": "NameError",
          "evalue": "name 'np' is not defined",
          "traceback": [
            "\u001b[0;31m---------------------------------------------------------------------------\u001b[0m",
            "\u001b[0;31mNameError\u001b[0m                                 Traceback (most recent call last)",
            "\u001b[0;32m<ipython-input-3-f5d0c42f7389>\u001b[0m in \u001b[0;36m<cell line: 2>\u001b[0;34m()\u001b[0m\n\u001b[1;32m      1\u001b[0m \u001b[0;31m# SLICING\u001b[0m\u001b[0;34m\u001b[0m\u001b[0;34m\u001b[0m\u001b[0m\n\u001b[0;32m----> 2\u001b[0;31m \u001b[0marray2\u001b[0m\u001b[0;34m=\u001b[0m\u001b[0mnp\u001b[0m\u001b[0;34m.\u001b[0m\u001b[0marray\u001b[0m\u001b[0;34m(\u001b[0m\u001b[0;34m[\u001b[0m\u001b[0;36m2\u001b[0m\u001b[0;34m,\u001b[0m\u001b[0;36m3\u001b[0m\u001b[0;34m,\u001b[0m\u001b[0;36m4\u001b[0m\u001b[0;34m,\u001b[0m\u001b[0;36m5\u001b[0m\u001b[0;34m,\u001b[0m\u001b[0;36m6\u001b[0m\u001b[0;34m,\u001b[0m\u001b[0;36m7\u001b[0m\u001b[0;34m,\u001b[0m\u001b[0;36m8\u001b[0m\u001b[0;34m,\u001b[0m\u001b[0;36m9\u001b[0m\u001b[0;34m]\u001b[0m\u001b[0;34m)\u001b[0m\u001b[0;34m\u001b[0m\u001b[0;34m\u001b[0m\u001b[0m\n\u001b[0m",
            "\u001b[0;31mNameError\u001b[0m: name 'np' is not defined"
          ]
        }
      ]
    },
    {
      "cell_type": "code",
      "source": [
        "arr=array2[4:6]\n",
        "arr"
      ],
      "metadata": {
        "id": "CYgfQfHGDcHc"
      },
      "execution_count": null,
      "outputs": []
    },
    {
      "cell_type": "code",
      "source": [
        "arr[0]=9\n",
        "arr\n"
      ],
      "metadata": {
        "id": "JgtjxWi9Dg_l"
      },
      "execution_count": null,
      "outputs": []
    },
    {
      "cell_type": "code",
      "source": [
        "array2"
      ],
      "metadata": {
        "id": "bCC8xDt5DqMP"
      },
      "execution_count": null,
      "outputs": []
    },
    {
      "cell_type": "code",
      "source": [
        "ar3=np.array([[2,3,4],[5,6,7]])"
      ],
      "metadata": {
        "id": "0sTXgGfFDGN1"
      },
      "execution_count": null,
      "outputs": []
    },
    {
      "cell_type": "code",
      "source": [
        "#ar3.sum(axis=0)\n",
        "ar3.sum(axis=1)"
      ],
      "metadata": {
        "id": "57v_ooCoE88-"
      },
      "execution_count": null,
      "outputs": []
    },
    {
      "cell_type": "code",
      "source": [
        "import numpy as np\n",
        "\n",
        "a =np.array([[1,2,3],[4,5,6]])\n",
        "b =np.array([[7,8,9],[10,11,12]])\n",
        "a.sum(axis=0)"
      ],
      "metadata": {
        "id": "811EgL_IAhc4"
      },
      "execution_count": null,
      "outputs": []
    },
    {
      "cell_type": "code",
      "source": [
        "# transpose of matrix\n",
        "# ar1.dot(ar2.transpose())\n",
        "np.dot(a,b.transpose())\n",
        "np.cross(a,b)"
      ],
      "metadata": {
        "id": "xeWFQwd9A7cU"
      },
      "execution_count": null,
      "outputs": []
    },
    {
      "cell_type": "code",
      "source": [
        "c =np.array([[3,4,5,6,7],[6,8,75,3,4]])\n",
        "#np.sort(c)\n",
        "#np.sort(c,axis=0,kind='mergesort')\n",
        "np.sort(c,axis=0,kind='quicksort')"
      ],
      "metadata": {
        "id": "jl24uC4TGOHf"
      },
      "execution_count": null,
      "outputs": []
    },
    {
      "cell_type": "code",
      "source": [
        "import numpy as np\n",
        "array1=np.array([[3,4,56,7],[6,7,8,9]],dtype='int32')\n",
        "print(array1)\n",
        "\n",
        "a = np.arange(6)\n",
        "a"
      ],
      "metadata": {
        "id": "8z21Aa9qA6A8"
      },
      "execution_count": null,
      "outputs": []
    },
    {
      "cell_type": "code",
      "source": [
        "b = np.array([1,2,11,345,4,5,6,7,8,9,6,5,4,3,2,1,12,34,455,67,89,87,65,43])\n",
        "b.shape"
      ],
      "metadata": {
        "id": "UJwDmAzAGY_2"
      },
      "execution_count": null,
      "outputs": []
    },
    {
      "cell_type": "code",
      "source": [
        "#b =b.reshape(8,3)\n",
        "#b"
      ],
      "metadata": {
        "id": "enTWd8FcIchU"
      },
      "execution_count": null,
      "outputs": []
    },
    {
      "cell_type": "code",
      "source": [
        "np.argsort(b)\n"
      ],
      "metadata": {
        "id": "wCMK7qSsIqfi"
      },
      "execution_count": null,
      "outputs": []
    },
    {
      "cell_type": "code",
      "source": [
        "np.argmin(b)\n"
      ],
      "metadata": {
        "id": "I8PTsgqIJcK3"
      },
      "execution_count": null,
      "outputs": []
    },
    {
      "cell_type": "code",
      "source": [
        "np.argmax(b)"
      ],
      "metadata": {
        "id": "FFRrvURwJeRG"
      },
      "execution_count": null,
      "outputs": []
    },
    {
      "cell_type": "code",
      "source": [
        "import pandas as pd\n",
        " df1 = pd.DataFrame([[3,4,56],[4,5,6],[7,8,9],[4,3,2]])\n",
        " df1"
      ],
      "metadata": {
        "id": "XSoQ3ihufHjQ"
      },
      "execution_count": null,
      "outputs": []
    },
    {
      "cell_type": "code",
      "source": [
        "import pandas as pd\n",
        "df=pd.DataFrame()\n",
        "print(df)\n",
        "import pandas as pd\n",
        "df1 = pd.DataFrame([[3,4,56],[4,5,6],[7,8,9],[4,3,2]],columns=['A1','B1','C1'])\n",
        "df1\n"
      ],
      "metadata": {
        "id": "K9yN7gAYhqt_"
      },
      "execution_count": null,
      "outputs": []
    },
    {
      "cell_type": "code",
      "source": [
        "df1.head(2)"
      ],
      "metadata": {
        "id": "JTfz-jwqh6KR"
      },
      "execution_count": null,
      "outputs": []
    },
    {
      "cell_type": "code",
      "source": [
        "df.tail(1)"
      ],
      "metadata": {
        "id": "jwl0Y1Vsh-M1"
      },
      "execution_count": null,
      "outputs": []
    },
    {
      "cell_type": "code",
      "source": [
        "import pandas as pd\n",
        "df=pd.read_csv('/content/exported-data.csv')\n",
        "df\n"
      ],
      "metadata": {
        "id": "VKsbTV9biCcM"
      },
      "execution_count": null,
      "outputs": []
    },
    {
      "cell_type": "code",
      "source": [
        "import json\n",
        "json_data='{\"a\":1,\"b\":2,\"c\":3}'\n",
        "x= json.loads(json_data)"
      ],
      "metadata": {
        "id": "zQH2SSVjiTEl"
      },
      "execution_count": 5,
      "outputs": []
    },
    {
      "cell_type": "code",
      "source": [
        "x"
      ],
      "metadata": {
        "colab": {
          "base_uri": "https://localhost:8080/"
        },
        "id": "gXX0l6THjFDs",
        "outputId": "e8f58739-32a1-49a3-bad7-98249a6e17de"
      },
      "execution_count": 6,
      "outputs": [
        {
          "output_type": "execute_result",
          "data": {
            "text/plain": [
              "{'a': 1, 'b': 2, 'c': 3}"
            ]
          },
          "metadata": {},
          "execution_count": 6
        }
      ]
    },
    {
      "cell_type": "code",
      "source": [
        "x['c']"
      ],
      "metadata": {
        "colab": {
          "base_uri": "https://localhost:8080/"
        },
        "id": "Vg9rbQgajMoF",
        "outputId": "feff39ad-5fce-4432-dd80-0e1d9791510a"
      },
      "execution_count": 7,
      "outputs": [
        {
          "output_type": "execute_result",
          "data": {
            "text/plain": [
              "3"
            ]
          },
          "metadata": {},
          "execution_count": 7
        }
      ]
    }
  ]
}