{
  "nbformat": 4,
  "nbformat_minor": 0,
  "metadata": {
    "colab": {
      "provenance": [],
      "authorship_tag": "ABX9TyMFMUdB9jjprOxAegL10kL4",
      "include_colab_link": true
    },
    "kernelspec": {
      "name": "python3",
      "display_name": "Python 3"
    },
    "language_info": {
      "name": "python"
    }
  },
  "cells": [
    {
      "cell_type": "markdown",
      "metadata": {
        "id": "view-in-github",
        "colab_type": "text"
      },
      "source": [
        "<a href=\"https://colab.research.google.com/github/ScriptSherpa/python-and-ds/blob/main/iguru4.ipynb\" target=\"_parent\"><img src=\"https://colab.research.google.com/assets/colab-badge.svg\" alt=\"Open In Colab\"/></a>"
      ]
    },
    {
      "cell_type": "code",
      "execution_count": null,
      "metadata": {
        "colab": {
          "base_uri": "https://localhost:8080/"
        },
        "id": "aNdmJCSjtT6h",
        "outputId": "c520e1cd-8041-4d9e-9896-ae57301e1f95"
      },
      "outputs": [
        {
          "output_type": "stream",
          "name": "stdout",
          "text": [
            "(array([0, 1, 2, 3, 4, 5, 7, 8, 9]),)\n",
            "[34 56 78  9 76 55 23 45 67]\n"
          ]
        }
      ],
      "source": [
        "import numpy as np\n",
        "# where () ---> used to return index number\n",
        "\n",
        "arr=np.array([34,56,78,9,76,55,4,23,45,67])\n",
        "res =np.where(arr>5)\n",
        "print(res)\n",
        "print(arr[res])"
      ]
    },
    {
      "cell_type": "code",
      "source": [
        "#concatenate  used to combine two diifrent/1d-2d together\n",
        "arr1=np.array([1,2,3])\n",
        "arr2=np.array([4,5,6])\n",
        "arr=np.concatenate((arr1,arr2))\n",
        "print(arr)"
      ],
      "metadata": {
        "colab": {
          "base_uri": "https://localhost:8080/"
        },
        "id": "Krn6WkvnvXE-",
        "outputId": "6874a6e8-260c-440f-ff17-6b1b3ea28e9d"
      },
      "execution_count": null,
      "outputs": [
        {
          "output_type": "stream",
          "name": "stdout",
          "text": [
            "[1 2 3 4 5 6]\n"
          ]
        }
      ]
    },
    {
      "cell_type": "code",
      "source": [
        "# array_split(arrayname,splitvalue)\n",
        "arr=np.array([1,2,3,4,5,6])\n",
        "res=np.array_split(arr,3)\n",
        "print(res)"
      ],
      "metadata": {
        "colab": {
          "base_uri": "https://localhost:8080/"
        },
        "id": "xxHIsn5jxUff",
        "outputId": "b3c8a438-a7d5-48d6-d1d7-5f2b9254d957"
      },
      "execution_count": null,
      "outputs": [
        {
          "output_type": "stream",
          "name": "stdout",
          "text": [
            "[array([1, 2]), array([3, 4]), array([5, 6])]\n"
          ]
        }
      ]
    },
    {
      "cell_type": "code",
      "source": [
        "# sorting of an array\n",
        "#sort()\n",
        "\n",
        "arr=np.array([34,56,78,9,76,55,4,23,45,67])\n",
        "print(np.sort(arr))# by default it will sort in asecending order\n",
        "print(np.sort(arr)[::-1])# by default it will sort in desecending order"
      ],
      "metadata": {
        "colab": {
          "base_uri": "https://localhost:8080/"
        },
        "id": "v4zRnuRKyKtp",
        "outputId": "749c1b6d-b27c-486e-87fb-b7fd34b8cf28"
      },
      "execution_count": null,
      "outputs": [
        {
          "output_type": "stream",
          "name": "stdout",
          "text": [
            "[ 4  9 23 34 45 55 56 67 76 78]\n",
            "[78 76 67 56 55 45 34 23  9  4]\n"
          ]
        }
      ]
    },
    {
      "cell_type": "code",
      "source": [
        "# default data type i float and zero ()\n",
        "\n",
        "#1d array\n",
        "arr=np.zeros(9)\n",
        "print(arr)\n",
        "\n",
        "# 2d array\n",
        "arr=np.zeros((3,3),dtype='i')\n",
        "print(arr)"
      ],
      "metadata": {
        "colab": {
          "base_uri": "https://localhost:8080/"
        },
        "id": "ZkAYgquY0Gd4",
        "outputId": "bc687bbd-0b5f-4892-c743-5d5c132f269d"
      },
      "execution_count": null,
      "outputs": [
        {
          "output_type": "stream",
          "name": "stdout",
          "text": [
            "[0. 0. 0. 0. 0. 0. 0. 0. 0.]\n",
            "[[0 0 0]\n",
            " [0 0 0]\n",
            " [0 0 0]]\n"
          ]
        }
      ]
    },
    {
      "cell_type": "code",
      "source": [
        "# ones () it will fill an array with 1s\n",
        "#default data type is float\n",
        "\n",
        "#1d array\n",
        "arr=np.ones(9)\n",
        "print(arr)\n",
        "\n",
        "#2d array\n",
        "arr=np.ones((3,3),dtype='i')\n",
        "print(arr)\n"
      ],
      "metadata": {
        "colab": {
          "base_uri": "https://localhost:8080/"
        },
        "id": "Eunt1fns07IA",
        "outputId": "52750991-6606-4d3a-8111-a0a3f46dbff6"
      },
      "execution_count": null,
      "outputs": [
        {
          "output_type": "stream",
          "name": "stdout",
          "text": [
            "[1. 1. 1. 1. 1. 1. 1. 1. 1.]\n",
            "[[1 1 1]\n",
            " [1 1 1]\n",
            " [1 1 1]]\n"
          ]
        }
      ]
    },
    {
      "cell_type": "code",
      "source": [
        "#full(size,constantvalue)\n",
        "# used to fill an array with constant value\n",
        "\n",
        "x=np.full(9,121)\n",
        "print(x)\n"
      ],
      "metadata": {
        "colab": {
          "base_uri": "https://localhost:8080/",
          "height": 106
        },
        "id": "DOQdY09E11u1",
        "outputId": "f3029ac2-f4ec-480c-8028-b561d1f06cc7"
      },
      "execution_count": null,
      "outputs": [
        {
          "output_type": "error",
          "ename": "SyntaxError",
          "evalue": "unmatched ')' (<ipython-input-12-8b0e27adcbd6>, line 6)",
          "traceback": [
            "\u001b[0;36m  File \u001b[0;32m\"<ipython-input-12-8b0e27adcbd6>\"\u001b[0;36m, line \u001b[0;32m6\u001b[0m\n\u001b[0;31m    x=np.full((3,4)),24)\u001b[0m\n\u001b[0m                       ^\u001b[0m\n\u001b[0;31mSyntaxError\u001b[0m\u001b[0;31m:\u001b[0m unmatched ')'\n"
          ]
        }
      ]
    },
    {
      "cell_type": "code",
      "source": [
        "x=np.full((3,4),24)\n",
        "print(x)"
      ],
      "metadata": {
        "colab": {
          "base_uri": "https://localhost:8080/"
        },
        "id": "eHXf673Y2XLf",
        "outputId": "b9954819-a919-4741-cb0b-3cc690b61bb8"
      },
      "execution_count": null,
      "outputs": [
        {
          "output_type": "stream",
          "name": "stdout",
          "text": [
            "[[24 24 24 24]\n",
            " [24 24 24 24]\n",
            " [24 24 24 24]]\n"
          ]
        }
      ]
    },
    {
      "cell_type": "code",
      "source": [
        "# sum()\n",
        "print(np.sum(x))"
      ],
      "metadata": {
        "colab": {
          "base_uri": "https://localhost:8080/"
        },
        "id": "Jh1WwWMu2ayY",
        "outputId": "a7629e79-cafd-4519-8ee8-ceac83045318"
      },
      "execution_count": null,
      "outputs": [
        {
          "output_type": "stream",
          "name": "stdout",
          "text": [
            "288\n"
          ]
        }
      ]
    },
    {
      "cell_type": "code",
      "source": [
        "# numpy random module\n",
        "from numpy import random\n",
        "x=random.randint(10,20)\n",
        "print(x)"
      ],
      "metadata": {
        "colab": {
          "base_uri": "https://localhost:8080/"
        },
        "id": "UPm9h_GK3PKh",
        "outputId": "dbe94c3f-104b-4c2d-9feb-01169b973701"
      },
      "execution_count": null,
      "outputs": [
        {
          "output_type": "stream",
          "name": "stdout",
          "text": [
            "19\n"
          ]
        }
      ]
    },
    {
      "cell_type": "code",
      "source": [
        "# rand() method gernerates a random float value b/w 0 and 1\n",
        "x=random.rand()\n",
        "print(x)"
      ],
      "metadata": {
        "colab": {
          "base_uri": "https://localhost:8080/"
        },
        "id": "6LpJcH5V4J37",
        "outputId": "88214613-3379-42f1-bb0c-cb51e749f4da"
      },
      "execution_count": null,
      "outputs": [
        {
          "output_type": "stream",
          "name": "stdout",
          "text": [
            "0.30123339628274914\n"
          ]
        }
      ]
    },
    {
      "cell_type": "code",
      "source": [
        "# 1D array\n",
        "arr = random.randint(100, size=(5))\n",
        "print(arr)\n",
        "\n",
        "#2D array\n",
        "arr1 = random.randint(100,120, size=(4,5))\n",
        "print(arr1)"
      ],
      "metadata": {
        "colab": {
          "base_uri": "https://localhost:8080/"
        },
        "id": "hYxWtIM94171",
        "outputId": "624232c5-e448-4f7e-94b8-1411c3d68884"
      },
      "execution_count": null,
      "outputs": [
        {
          "output_type": "stream",
          "name": "stdout",
          "text": [
            "[16 53 27 12 76]\n",
            "[[106 114 101 101 115]\n",
            " [113 111 110 103 101]\n",
            " [110 111 102 111 116]\n",
            " [117 104 104 103 108]]\n"
          ]
        }
      ]
    },
    {
      "cell_type": "code",
      "source": [
        "# numpy broadcasting\n",
        "# should be of same dimensions\n",
        "arr1 =np.array([1,2,3])\n",
        "arr2=np.array([1,2,3])\n",
        "arr=arr1+arr2\n",
        "print(arr)"
      ],
      "metadata": {
        "colab": {
          "base_uri": "https://localhost:8080/"
        },
        "id": "sF49P3rU6cLC",
        "outputId": "111d98ef-ef51-4613-fbe9-f6bf8c03fa89"
      },
      "execution_count": null,
      "outputs": [
        {
          "output_type": "stream",
          "name": "stdout",
          "text": [
            "[2 4 6]\n"
          ]
        }
      ]
    }
  ]
}