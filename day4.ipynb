{
  "nbformat": 4,
  "nbformat_minor": 0,
  "metadata": {
    "colab": {
      "provenance": [],
      "authorship_tag": "ABX9TyPOkORdg4hkLscZ8bntGusY",
      "include_colab_link": true
    },
    "kernelspec": {
      "name": "python3",
      "display_name": "Python 3"
    },
    "language_info": {
      "name": "python"
    }
  },
  "cells": [
    {
      "cell_type": "markdown",
      "metadata": {
        "id": "view-in-github",
        "colab_type": "text"
      },
      "source": [
        "<a href=\"https://colab.research.google.com/github/ScriptSherpa/python-and-ds/blob/main/day4.ipynb\" target=\"_parent\"><img src=\"https://colab.research.google.com/assets/colab-badge.svg\" alt=\"Open In Colab\"/></a>"
      ]
    },
    {
      "cell_type": "code",
      "execution_count": 2,
      "metadata": {
        "colab": {
          "base_uri": "https://localhost:8080/"
        },
        "id": "DLPEqJ9VMDnC",
        "outputId": "9af024b6-d958-4c71-8f4a-25cd6492e9bf"
      },
      "outputs": [
        {
          "output_type": "stream",
          "name": "stdout",
          "text": [
            "89\n",
            "30\n"
          ]
        }
      ],
      "source": [
        "#operators\n",
        "\n",
        "\n",
        "#assignment operator\n",
        "\n",
        "# =\n",
        "\n",
        "myNUM=89\n",
        "print(myNUM)\n",
        "\n",
        "x = 23\n",
        "x+= 7 # x = x + 10\n",
        "print(x)\n",
        "\n",
        ""
      ]
    },
    {
      "cell_type": "code",
      "source": [
        " #python compariosn operators\n",
        " x=12\n",
        " y=23\n",
        "\n",
        " print(x==y)\n",
        " print(x!=y)\n",
        " print(x>y)\n",
        " print(x<y)\n",
        " print(x>=y)\n",
        " print(x<=y)"
      ],
      "metadata": {
        "colab": {
          "base_uri": "https://localhost:8080/"
        },
        "id": "kWIQjU7-PgYU",
        "outputId": "06027805-e73a-4c19-c38d-ae47260dbc23"
      },
      "execution_count": 3,
      "outputs": [
        {
          "output_type": "stream",
          "name": "stdout",
          "text": [
            "False\n",
            "True\n",
            "False\n",
            "True\n",
            "False\n",
            "True\n"
          ]
        }
      ]
    },
    {
      "cell_type": "code",
      "source": [
        "age =23\n",
        "print(age>=18 and age<=65)\n",
        "print(age<18 or age>65)\n",
        "print('Eligibile For VOting',(age>=18))"
      ],
      "metadata": {
        "colab": {
          "base_uri": "https://localhost:8080/"
        },
        "id": "xZdocYOJQFRH",
        "outputId": "50c44412-fa7a-4177-dca5-a09b8598561b"
      },
      "execution_count": 4,
      "outputs": [
        {
          "output_type": "stream",
          "name": "stdout",
          "text": [
            "True\n",
            "False\n",
            "Eligibile For VOting True\n"
          ]
        }
      ]
    },
    {
      "cell_type": "code",
      "source": [
        "# logical operators\n",
        "\n",
        "# AND\n",
        "\n",
        "a= 100\n",
        "b=235\n",
        "\n",
        "print(\"a=100 and b=233\",(a==100 and b==200 ))\n",
        "# AND operator return TRUE when both  conditions satisfies else it returnnns false"
      ],
      "metadata": {
        "colab": {
          "base_uri": "https://localhost:8080/"
        },
        "id": "WzxtY9DRQiIQ",
        "outputId": "5429c1da-731f-4cbb-ca61-a86aff7dde04"
      },
      "execution_count": 7,
      "outputs": [
        {
          "output_type": "stream",
          "name": "stdout",
          "text": [
            "a=100 and b=233 False\n"
          ]
        }
      ]
    },
    {
      "cell_type": "code",
      "source": [
        "# Or\n",
        "# will returnTrue if any of the condtion is true\n",
        "#will return false when both the conditions are false\n",
        "\n",
        "a=34\n",
        "b=56\n",
        "c=46\n",
        "d=78\n",
        "\n",
        "print((a==34 or b==89))\n",
        "print((c==49 or d==79))"
      ],
      "metadata": {
        "colab": {
          "base_uri": "https://localhost:8080/"
        },
        "id": "C4_p9WDWRDld",
        "outputId": "9ff9ba7c-193c-471e-f789-7348c00c84cd"
      },
      "execution_count": 11,
      "outputs": [
        {
          "output_type": "stream",
          "name": "stdout",
          "text": [
            "True\n",
            "False\n"
          ]
        }
      ]
    },
    {
      "cell_type": "code",
      "source": [
        "# NOT\n",
        "# it is used to reverse the result\n",
        "# if the output is true not will make it as false\n",
        "# if the output is false not willmke it as true\n",
        "\n",
        "a=12\n",
        "b=13\n",
        "\n",
        "print(not(a==12 and b==13))\n",
        "print(not(a==15 and b==17))"
      ],
      "metadata": {
        "colab": {
          "base_uri": "https://localhost:8080/"
        },
        "id": "JaNxbSfDSnqj",
        "outputId": "bf2f9fec-14a0-428b-bcce-fdd4b093fc35"
      },
      "execution_count": 15,
      "outputs": [
        {
          "output_type": "stream",
          "name": "stdout",
          "text": [
            "False\n",
            "True\n"
          ]
        }
      ]
    },
    {
      "cell_type": "code",
      "source": [
        "# membership operators\n",
        "# in not in\n",
        "\n",
        "course =\"data science with Pyhton\"\n",
        "print( course)\n",
        "# in --> returns true if value present in sequece\n",
        "print('d' in course)\n",
        "print('Pyhton' in course)"
      ],
      "metadata": {
        "colab": {
          "base_uri": "https://localhost:8080/"
        },
        "id": "bSrgzY5dTofK",
        "outputId": "4b4aa3f1-f161-48cf-a8b5-53c92b88a390"
      },
      "execution_count": 20,
      "outputs": [
        {
          "output_type": "stream",
          "name": "stdout",
          "text": [
            "data science with Pyhton\n",
            "True\n",
            "True\n"
          ]
        }
      ]
    }
  ]
}