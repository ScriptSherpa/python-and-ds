{
  "nbformat": 4,
  "nbformat_minor": 0,
  "metadata": {
    "colab": {
      "provenance": [],
      "authorship_tag": "ABX9TyPox3iK9pII0X/JcROHsPhh",
      "include_colab_link": true
    },
    "kernelspec": {
      "name": "python3",
      "display_name": "Python 3"
    },
    "language_info": {
      "name": "python"
    }
  },
  "cells": [
    {
      "cell_type": "markdown",
      "metadata": {
        "id": "view-in-github",
        "colab_type": "text"
      },
      "source": [
        "<a href=\"https://colab.research.google.com/github/ScriptSherpa/python-and-ds/blob/main/day12.ipynb\" target=\"_parent\"><img src=\"https://colab.research.google.com/assets/colab-badge.svg\" alt=\"Open In Colab\"/></a>"
      ]
    },
    {
      "cell_type": "code",
      "execution_count": 1,
      "metadata": {
        "colab": {
          "base_uri": "https://localhost:8080/"
        },
        "id": "Mp9VLKfqE7vr",
        "outputId": "554a846b-c112-40c8-c049-5b56bb60abf5"
      },
      "outputs": [
        {
          "output_type": "stream",
          "name": "stdout",
          "text": [
            "<class 'list'>\n",
            "[10, 23, 45, 67, 89]\n",
            "<class 'list'>\n",
            "[23, 45, 67, 89, 98, 'nikhil', 34, 56, True]\n"
          ]
        }
      ],
      "source": [
        "#data structure in python\n",
        "# lists\n",
        "\n",
        "#crerating a list\n",
        "mylist=[10,23,45,67,89]\n",
        "print(type(mylist))\n",
        "print(mylist)\n",
        "\n",
        "mylist1=list([23,45,67,89,98,'nikhil',34,56, True])\n",
        "print(type(mylist1))\n",
        "print(mylist1)"
      ]
    },
    {
      "cell_type": "code",
      "source": [
        "# list is mutable\n",
        "list1=[23,45,67,89]\n",
        "print(list1)\n",
        "\n",
        "list1[1] = 200\n",
        "print(list1)"
      ],
      "metadata": {
        "colab": {
          "base_uri": "https://localhost:8080/"
        },
        "id": "5TQ7ZmfvHTjq",
        "outputId": "8f78dbf0-07a7-4855-c483-a06c3bffa0cf"
      },
      "execution_count": 4,
      "outputs": [
        {
          "output_type": "stream",
          "name": "stdout",
          "text": [
            "[23, 45, 67, 89]\n",
            "[23, 200, 67, 89]\n"
          ]
        }
      ]
    },
    {
      "cell_type": "code",
      "source": [
        "# indexing\n",
        "list1=[23,45,67,89]\n",
        "print(list1[2])\n",
        "# negative indexing\n",
        "print(list1[-1])\n",
        "# slicing\n",
        "print(list1[1:3])"
      ],
      "metadata": {
        "colab": {
          "base_uri": "https://localhost:8080/"
        },
        "id": "Okv1ULRAHuGW",
        "outputId": "4265e23e-8588-4327-d080-c478da619c5e"
      },
      "execution_count": 5,
      "outputs": [
        {
          "output_type": "stream",
          "name": "stdout",
          "text": [
            "67\n",
            "89\n",
            "[45, 67]\n"
          ]
        }
      ]
    },
    {
      "cell_type": "code",
      "source": [
        "# Iteration over a list\n",
        "list1=[23,45,67,89]\n",
        "for i in list1:\n",
        "    print(i)"
      ],
      "metadata": {
        "colab": {
          "base_uri": "https://localhost:8080/"
        },
        "id": "95Uv2ZwFIm2F",
        "outputId": "54c122cb-f2dd-43d7-a30b-8c1eb6fb80c5"
      },
      "execution_count": 6,
      "outputs": [
        {
          "output_type": "stream",
          "name": "stdout",
          "text": [
            "23\n",
            "45\n",
            "67\n",
            "89\n"
          ]
        }
      ]
    },
    {
      "cell_type": "code",
      "source": [
        "list1=[10,34,56,78,98,32,13]\n",
        "#len\n",
        "print(len(list1))"
      ],
      "metadata": {
        "colab": {
          "base_uri": "https://localhost:8080/"
        },
        "id": "rzpwx9YoJMn8",
        "outputId": "332f3997-9560-4f0d-ec4b-cda886b2c493"
      },
      "execution_count": 7,
      "outputs": [
        {
          "output_type": "stream",
          "name": "stdout",
          "text": [
            "7\n"
          ]
        }
      ]
    }
  ]
}