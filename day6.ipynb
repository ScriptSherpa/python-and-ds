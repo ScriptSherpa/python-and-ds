{
  "nbformat": 4,
  "nbformat_minor": 0,
  "metadata": {
    "colab": {
      "provenance": [],
      "authorship_tag": "ABX9TyOzlM64vRpet8HHWs3dHwQg",
      "include_colab_link": true
    },
    "kernelspec": {
      "name": "python3",
      "display_name": "Python 3"
    },
    "language_info": {
      "name": "python"
    }
  },
  "cells": [
    {
      "cell_type": "markdown",
      "metadata": {
        "id": "view-in-github",
        "colab_type": "text"
      },
      "source": [
        "<a href=\"https://colab.research.google.com/github/ScriptSherpa/python-and-ds/blob/main/day6.ipynb\" target=\"_parent\"><img src=\"https://colab.research.google.com/assets/colab-badge.svg\" alt=\"Open In Colab\"/></a>"
      ]
    },
    {
      "cell_type": "code",
      "execution_count": 3,
      "metadata": {
        "colab": {
          "base_uri": "https://localhost:8080/"
        },
        "id": "hw8v_KH2ewvV",
        "outputId": "719adfde-1d24-47be-d1c9-51d9d5116ad7"
      },
      "outputs": [
        {
          "output_type": "stream",
          "name": "stdout",
          "text": [
            "nikhil nikhil nikhil nikhil nikhil nikhil nikhil nikhil nikhil nikhil \n"
          ]
        }
      ],
      "source": [
        "# loops n pyhton\n",
        "# for loop\n",
        "\n",
        "print(\"nikhil \"*10)"
      ]
    },
    {
      "cell_type": "code",
      "source": [
        "for char in \"nikhil\":\n",
        "    print(char)"
      ],
      "metadata": {
        "colab": {
          "base_uri": "https://localhost:8080/"
        },
        "id": "kxEErzfmfIuE",
        "outputId": "cb14fcb3-c32a-4c27-9490-24d624347b50"
      },
      "execution_count": 4,
      "outputs": [
        {
          "output_type": "stream",
          "name": "stdout",
          "text": [
            "n\n",
            "i\n",
            "k\n",
            "h\n",
            "i\n",
            "l\n"
          ]
        }
      ]
    },
    {
      "cell_type": "code",
      "source": [
        "age  = 12,34,56,78,79,35\n",
        "for what in age:\n",
        "    print(what)"
      ],
      "metadata": {
        "colab": {
          "base_uri": "https://localhost:8080/"
        },
        "id": "jn64RFKak8F4",
        "outputId": "fdb83b25-c2be-4286-f96c-e57b6f0164ec"
      },
      "execution_count": 5,
      "outputs": [
        {
          "output_type": "stream",
          "name": "stdout",
          "text": [
            "12\n",
            "34\n",
            "56\n",
            "78\n",
            "79\n",
            "35\n"
          ]
        }
      ]
    },
    {
      "cell_type": "code",
      "source": [
        "numbers = 12,45,67,89,86,42,16,79,\n",
        "\n",
        "for x in numbers:\n",
        "   if x%2==0:\n",
        "       print(x)"
      ],
      "metadata": {
        "colab": {
          "base_uri": "https://localhost:8080/"
        },
        "id": "fYHV4hPZlNh1",
        "outputId": "af927538-8772-4bc8-cdf1-8fbf328c18ab"
      },
      "execution_count": 9,
      "outputs": [
        {
          "output_type": "stream",
          "name": "stdout",
          "text": [
            "12\n",
            "86\n",
            "42\n",
            "16\n"
          ]
        }
      ]
    },
    {
      "cell_type": "code",
      "source": [
        "price_list = 30,24,56,67,78,90\n",
        "tax = 5\n",
        "for price in price_list:\n",
        "    print(price+tax)\n"
      ],
      "metadata": {
        "colab": {
          "base_uri": "https://localhost:8080/"
        },
        "id": "V-cNb3RIrNxo",
        "outputId": "811724da-212a-4306-dee4-e10411cbf209"
      },
      "execution_count": 10,
      "outputs": [
        {
          "output_type": "stream",
          "name": "stdout",
          "text": [
            "35\n",
            "29\n",
            "61\n",
            "72\n",
            "83\n",
            "95\n"
          ]
        }
      ]
    }
  ]
}