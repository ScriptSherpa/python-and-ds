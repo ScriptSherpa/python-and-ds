{
  "nbformat": 4,
  "nbformat_minor": 0,
  "metadata": {
    "colab": {
      "provenance": [],
      "authorship_tag": "ABX9TyNsbqoXbdYnJ0yhCsSFyjKC",
      "include_colab_link": true
    },
    "kernelspec": {
      "name": "python3",
      "display_name": "Python 3"
    },
    "language_info": {
      "name": "python"
    }
  },
  "cells": [
    {
      "cell_type": "markdown",
      "metadata": {
        "id": "view-in-github",
        "colab_type": "text"
      },
      "source": [
        "<a href=\"https://colab.research.google.com/github/ScriptSherpa/python-and-ds/blob/main/iguru3.ipynb\" target=\"_parent\"><img src=\"https://colab.research.google.com/assets/colab-badge.svg\" alt=\"Open In Colab\"/></a>"
      ]
    },
    {
      "cell_type": "code",
      "execution_count": 5,
      "metadata": {
        "colab": {
          "base_uri": "https://localhost:8080/"
        },
        "id": "UWxLLo_QmoDf",
        "outputId": "c9e60bdc-b0b4-4cca-d28f-bb50c9bafcb4"
      },
      "outputs": [
        {
          "output_type": "stream",
          "name": "stdout",
          "text": [
            "[10 23 45 67 89 76]\n",
            "[10 23 45 67 89 76]\n",
            "original array : [ 10 234  45  67  89  76]\n",
            "copied array : [ 10 234  45  67  89  76]\n"
          ]
        }
      ],
      "source": [
        "# copy()  and  view()\n",
        "# in copy() if you make any changes in original array , it won't effect copied array\n",
        "# and if you make any changes in copied array , it won't effect original array\n",
        "\n",
        "\n",
        "import numpy as np\n",
        "\n",
        "\n",
        "# view  if chnage in org and copied array it will chnage and updagte in both files\n",
        "\n",
        "org_arr = np.array([10,23,45,67,89,76])\n",
        "copied_arr=org_arr.view()\n",
        "print(org_arr)\n",
        "print(copied_arr)\n",
        "\n",
        "copied_arr[1]=234\n",
        "print('original array :' , org_arr)\n",
        "print('copied array :' , copied_arr)"
      ]
    },
    {
      "cell_type": "code",
      "source": [
        "# rshape()\n",
        "#used to change the dimensions of an array\n",
        "\n",
        "# convert 1d  into 2d\n",
        "import numpy as np\n",
        "arr = np.array([1,2,3,4,5,6,7,8,9,10,11,12])\n",
        "print(arr.shape)\n",
        "\n",
        "arr = arr.reshape(3,5)\n",
        "print(arr)\n",
        "print(arr.reshape)"
      ],
      "metadata": {
        "colab": {
          "base_uri": "https://localhost:8080/",
          "height": 228
        },
        "id": "CmzagNDqqBKr",
        "outputId": "3ad30a13-97cd-4f38-a4f0-d6dd02454967"
      },
      "execution_count": 7,
      "outputs": [
        {
          "output_type": "stream",
          "name": "stdout",
          "text": [
            "(12,)\n"
          ]
        },
        {
          "output_type": "error",
          "ename": "ValueError",
          "evalue": "cannot reshape array of size 12 into shape (3,5)",
          "traceback": [
            "\u001b[0;31m---------------------------------------------------------------------------\u001b[0m",
            "\u001b[0;31mValueError\u001b[0m                                Traceback (most recent call last)",
            "\u001b[0;32m<ipython-input-7-b95c1162c8e2>\u001b[0m in \u001b[0;36m<cell line: 9>\u001b[0;34m()\u001b[0m\n\u001b[1;32m      7\u001b[0m \u001b[0mprint\u001b[0m\u001b[0;34m(\u001b[0m\u001b[0marr\u001b[0m\u001b[0;34m.\u001b[0m\u001b[0mshape\u001b[0m\u001b[0;34m)\u001b[0m\u001b[0;34m\u001b[0m\u001b[0;34m\u001b[0m\u001b[0m\n\u001b[1;32m      8\u001b[0m \u001b[0;34m\u001b[0m\u001b[0m\n\u001b[0;32m----> 9\u001b[0;31m \u001b[0marr\u001b[0m \u001b[0;34m=\u001b[0m \u001b[0marr\u001b[0m\u001b[0;34m.\u001b[0m\u001b[0mreshape\u001b[0m\u001b[0;34m(\u001b[0m\u001b[0;36m3\u001b[0m\u001b[0;34m,\u001b[0m\u001b[0;36m5\u001b[0m\u001b[0;34m)\u001b[0m\u001b[0;34m\u001b[0m\u001b[0;34m\u001b[0m\u001b[0m\n\u001b[0m\u001b[1;32m     10\u001b[0m \u001b[0mprint\u001b[0m\u001b[0;34m(\u001b[0m\u001b[0marr\u001b[0m\u001b[0;34m)\u001b[0m\u001b[0;34m\u001b[0m\u001b[0;34m\u001b[0m\u001b[0m\n\u001b[1;32m     11\u001b[0m \u001b[0mprint\u001b[0m\u001b[0;34m(\u001b[0m\u001b[0marr\u001b[0m\u001b[0;34m.\u001b[0m\u001b[0mreshape\u001b[0m\u001b[0;34m)\u001b[0m\u001b[0;34m\u001b[0m\u001b[0;34m\u001b[0m\u001b[0m\n",
            "\u001b[0;31mValueError\u001b[0m: cannot reshape array of size 12 into shape (3,5)"
          ]
        }
      ]
    },
    {
      "cell_type": "code",
      "source": [
        "import numpy as np\n",
        "arr = np.array([[1,2,3],[4,5,6]])\n",
        "\n",
        "\n",
        "arr = arr.reshape(-1)\n",
        "print(arr)\n",
        "print(arr.shape)"
      ],
      "metadata": {
        "colab": {
          "base_uri": "https://localhost:8080/"
        },
        "id": "JV_Vq4IoqVmZ",
        "outputId": "0daaf465-00e7-454b-8a38-34d8980c18bb"
      },
      "execution_count": 8,
      "outputs": [
        {
          "output_type": "stream",
          "name": "stdout",
          "text": [
            "[1 2 3 4 5 6]\n",
            "(6,)\n"
          ]
        }
      ]
    },
    {
      "cell_type": "code",
      "source": [
        "# filter an array\n",
        "arr = np.array([1,2,4,5,6,7,89,98,67])\n",
        "newarr = arr>5\n",
        "print(newarr) #boolean masking\n",
        "print(arr[newarr])"
      ],
      "metadata": {
        "colab": {
          "base_uri": "https://localhost:8080/"
        },
        "id": "nHLH9jZgqVSK",
        "outputId": "24d46303-a1af-40b4-e84f-d7e1906a199c"
      },
      "execution_count": 11,
      "outputs": [
        {
          "output_type": "stream",
          "name": "stdout",
          "text": [
            "[False False False False  True  True  True  True  True]\n",
            "[ 6  7 89 98 67]\n"
          ]
        }
      ]
    },
    {
      "cell_type": "code",
      "source": [
        "#modify elements using boolean indexing\n",
        "\n",
        "arr = np.array([1,3,56,90,23,58,2,4,5,6,7,89,98,67])\n",
        "print(arr)\n",
        "copied_arr = arr.copy()\n",
        "copied_arr[arr%2==0]=0\n",
        "print(copied_arr)"
      ],
      "metadata": {
        "colab": {
          "base_uri": "https://localhost:8080/"
        },
        "id": "iNKgh9QpwEpX",
        "outputId": "8282814a-0fa6-4c8d-c43b-91d0d98e2e3b"
      },
      "execution_count": 12,
      "outputs": [
        {
          "output_type": "stream",
          "name": "stdout",
          "text": [
            "[ 1  3 56 90 23 58  2  4  5  6  7 89 98 67]\n",
            "[ 1  3  0  0 23  0  0  0  5  0  7 89  0 67]\n"
          ]
        }
      ]
    },
    {
      "cell_type": "markdown",
      "source": [],
      "metadata": {
        "id": "CjF2lrOctyiJ"
      }
    }
  ]
}