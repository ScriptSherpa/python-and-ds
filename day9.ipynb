{
  "nbformat": 4,
  "nbformat_minor": 0,
  "metadata": {
    "colab": {
      "provenance": [],
      "authorship_tag": "ABX9TyOmq/Ppimq2HKwiSc9xQOpV",
      "include_colab_link": true
    },
    "kernelspec": {
      "name": "python3",
      "display_name": "Python 3"
    },
    "language_info": {
      "name": "python"
    }
  },
  "cells": [
    {
      "cell_type": "markdown",
      "metadata": {
        "id": "view-in-github",
        "colab_type": "text"
      },
      "source": [
        "<a href=\"https://colab.research.google.com/github/ScriptSherpa/python-and-ds/blob/main/day9.ipynb\" target=\"_parent\"><img src=\"https://colab.research.google.com/assets/colab-badge.svg\" alt=\"Open In Colab\"/></a>"
      ]
    },
    {
      "cell_type": "code",
      "execution_count": 1,
      "metadata": {
        "colab": {
          "base_uri": "https://localhost:8080/"
        },
        "id": "jgfBjgg6dIcc",
        "outputId": "28574be2-c00a-4cbe-d1ca-f41a47aac5ed"
      },
      "outputs": [
        {
          "output_type": "stream",
          "name": "stdout",
          "text": [
            "red car\n",
            "red bus\n",
            "red truck\n",
            "yellow car\n",
            "yellow bus\n",
            "yellow truck\n",
            "black car\n",
            "black bus\n",
            "black truck\n"
          ]
        }
      ],
      "source": [
        "# NESTED for loop\n",
        "\n",
        "colors = 'red', 'yellow', 'black'  #   I==> red\n",
        "vehicle = 'car','bus','truck'\n",
        "\n",
        "for i in colors:\n",
        "    for j in vehicle :\n",
        "      print(i,j)\n"
      ]
    },
    {
      "cell_type": "code",
      "source": [],
      "metadata": {
        "id": "B9H2Acr6dq_o"
      },
      "execution_count": null,
      "outputs": []
    }
  ]
}